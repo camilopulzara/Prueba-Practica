{
 "cells": [ 
  {
   "cell_type": "code",
   "execution_count": 791,
   "metadata": {},
   "outputs": [],
   "source": [
    "# se cargan todas las librerias\n",
    "# Este notebook se corrio en python 3.9.13\n",
    "from transformers import (\n",
    "    AutoTokenizer,\n",
    "    AutoConfig, \n",
    "    AutoModelForSequenceClassification,\n",
    "    DataCollatorWithPadding,\n",
    "    TrainingArguments,\n",
    "    Trainer)\n",
    "\n",
    "from peft import PeftModel, PeftConfig, get_peft_model, LoraConfig\n",
    "import evaluate\n",
    "import torch\n",
    "import numpy as np\n",
    "import pandas as pd \n",
    "import json\n",
    "import spacy\n",
    "import re\n",
    "import unicodedata\n",
    "import inflect\n",
    "import keras \n",
    "import tensorflow \n",
    "from keras.preprocessing.text import Tokenizer\n",
    "from keras.preprocessing.sequence import pad_sequences \n",
    "#from tensorflow.keras.preprocessing.text import Tokenizer\n",
    "#from tensorflow.keras.preprocessing.sequence import pad_sequences\n",
    "import pandas as pd\n",
    "import numpy as np \n",
    "from datasets import Dataset, Features, ClassLabel, Value, DatasetDict, Sequence \n",
    "from sklearn.preprocessing import MinMaxScaler "
   ]
  },
  {
   "cell_type": "code",
   "execution_count": 101,
   "metadata": {},
   "outputs": [],
   "source": [
    "def obtener_data(file_path):\n",
    "    \"\"\"\n",
    "    Esta funcion recibe un archivo .jsonl y lo carga a un dataframe y separa el texto por cada mencion que realicen las personas. \n",
    "    \"\"\"\n",
    "    data = []\n",
    "    with open(file_path, 'r', encoding='utf-8') as file:\n",
    "        for line in file:\n",
    "            # Cada línea es un objeto JSON válido\n",
    "            json_object = json.loads(line)\n",
    "            data.append(json_object)\n",
    "    df = pd.DataFrame(data)\n",
    "    messages = pd.DataFrame(df['messages'].apply(lambda x: [item.strip(\" '\\\"\") for item in x]).apply(pd.Series).stack().reset_index(level=1, drop=True).reset_index(drop = True)).rename(columns = {0:'text'})\n",
    "    sender = pd.DataFrame(df['sender_labels'].apply(pd.Series).stack().reset_index(level=1, drop=True).reset_index(drop = True)).rename(columns = {0:'emotion'})\n",
    "    return df, messages, sender\n",
    "\n",
    "# Reemplaza 'ruta_al_archivo.jsonl' con la ruta real de tu archivo JSONL\n",
    "train_path = 'D:/rn/tf/Scripts/train.jsonl'\n",
    "test_path = 'D:/rn/tf/Scripts/test.jsonl'\n",
    "validation_path = 'D:/rn/tf/Scripts/validation.jsonl'\n",
    "# Se obtiene la data\n",
    "train_data, train_messages, train_sender = obtener_data(train_path)\n",
    "test_data, test_messages, test_sender = obtener_data(test_path)\n",
    "validation_data, validation_messages, validation_sender = obtener_data(validation_path)  \n"
   ]
  },
  {
   "cell_type": "code",
   "execution_count": 144,
   "metadata": {},
   "outputs": [],
   "source": [
    "# Cargar el modelo de Spacy para inglés\n",
    "nlp = spacy.load(\"en_core_web_sm\")\n",
    "\n",
    "# Funcion para quitar caracteres especiales de un texto utilizando expresiones regulares\n",
    "def remove_special_characters(text):\n",
    "    # Aplicar el modelo de Spacy para dividir el texto en tokens\n",
    "    doc = nlp(text)\n",
    "    \n",
    "    # Reconstruir el texto eliminando caracteres especiales\n",
    "    cleaned_text = ' '.join([token.text for token in doc if not re.search('[^A-Za-z0-9]+', token.text)])\n",
    "    \n",
    "    return cleaned_text\n",
    "\n",
    "def remove_hashtag_and_url(words):\n",
    "    # Eliminar URLs\n",
    "    words = re.sub(r'http\\S+|www.\\S+', '', words)\n",
    "    # Eliminar hashtags\n",
    "    words = re.sub(r'#\\S+', '', words)\n",
    "    # Eliminar usuarios @\n",
    "    words = re.sub(r'@\\S+', '', words)\n",
    "    # Elimina palabras con mas de aa\n",
    "    words =re.sub(r'\\b\\w*aa\\w*\\b','',words)\n",
    "    # Elimina palabras con mas de hh\n",
    "    words =re.sub(r'\\b\\w*hh\\w*\\b','',words)\n",
    "    # Elimina palabras con mas un ja r'mm+'\n",
    "    words =re.sub(r'(ja){2,}','',words)\n",
    "    # Elimina palabras con mas un mm\n",
    "    words =re.sub(r'mm+','',words)\n",
    "\n",
    "    return words\n",
    "\n",
    "\n",
    "\n",
    "def remove_non_ascii(words):\n",
    "    new_words = []\n",
    "    for word in words:\n",
    "        new_word = unicodedata.normalize('NFKD', word).encode('ascii', 'ignore').decode('utf-8', 'ignore')\n",
    "        new_word = new_word.replace('_', '')\n",
    "        new_word = new_word.replace('\\n', '')\n",
    "        new_words.append(new_word)\n",
    "    return str.join('', new_words)\n",
    "\n",
    "\n",
    "def reduce_repeated_characters(word, max_repeats=2):\n",
    "    # Utilizar una expresión regular para encontrar repeticiones excesivas\n",
    "    pattern = re.compile(r'(\\w)\\1{%d,}' % (max_repeats - 1))\n",
    "    \n",
    "    # Función de sustitución para reducir repeticiones\n",
    "    def reduce_match(match):\n",
    "        return match.group(1) * max_repeats\n",
    "    \n",
    "    # Aplicar la función de sustitución a la palabra\n",
    "    reduced_word = pattern.sub(reduce_match, word)\n",
    "    \n",
    "    return reduced_word\n",
    "\n",
    "\n",
    "def to_lowercase(words):\n",
    "    #Convert all characters to lowercase from list of tokenized words\n",
    "    new_words = []\n",
    "    for word in words:\n",
    "        new_word = word.lower()\n",
    "        new_words.append(new_word)\n",
    "    return str.join('',new_words)\n",
    "\n",
    "def remove_punctuation(words):\n",
    "    #Remove punctuation from list of tokenized words\n",
    "    new_words = []\n",
    "    for word in words:\n",
    "        new_word = re.sub(r'[^\\w\\s]', '', word)\n",
    "        if new_word != '':\n",
    "            new_words.append(new_word)\n",
    "    return str.join('',new_words)\n",
    "\n",
    "\n",
    "# Inicializar el objeto de la clase Inflect\n",
    "p = inflect.engine()\n",
    "\n",
    "# Función para reemplazar números por palabras\n",
    "def replace_numbers_with_words(text):\n",
    "    words = []\n",
    "    for word in text.split():\n",
    "        # Intentar convertir la palabra a número\n",
    "        try:\n",
    "            num = int(word)\n",
    "            # Convertir el número a palabras\n",
    "            word = p.number_to_words(num)\n",
    "        except ValueError:\n",
    "            pass\n",
    "        words.append(word)\n",
    "    return ' '.join(words)\n",
    "\n",
    "\n",
    "def remove_stopwords_spacy(text):\n",
    "    \"\"\"\n",
    "    Stopwords de la libreria de spacy\n",
    "\n",
    "    \"\"\"\n",
    "    doc = nlp(text)\n",
    "    palabras_sin_stopwords = [token.text for token in doc if not token.is_stop]\n",
    "    return ' '.join(palabras_sin_stopwords)\n",
    "\n",
    "mis_stopwords = {'so', 'f', 's','wo','mao','lol','oh','ho','na',',','haha','hahaha','h','ah','ha','e','g', 'm','rn',''}\n",
    "\n",
    "# Función para quitar stopwords con spaCy, incluyendo las stopwords personalizadas\n",
    "def remove_stopwords_spacy(text):\n",
    "    for palabra in mis_stopwords:\n",
    "        nlp.Defaults.stop_words.add(palabra)\n",
    "    \n",
    "    doc = nlp(text)\n",
    "    palabras_sin_stopwords = [token.text for token in doc if not token.is_stop]\n",
    "    \n",
    "    return ' '.join(palabras_sin_stopwords)\n",
    "\n",
    "\n",
    "def lemmatize_verbs(text):\n",
    "    doc = nlp(text)\n",
    "    lemmas = [token.lemma_ for token in doc]\n",
    "    return ' '.join(lemmas)\n",
    "\n",
    "def normalizador(df):\n",
    "    df['text2'] = df['text'].apply(remove_special_characters) \n",
    "    df['text2'] = df['text2'].apply(remove_non_ascii)\n",
    "    df['text2'] = df['text2'].apply(reduce_repeated_characters)\n",
    "    df['text2'] = df['text2'].apply(to_lowercase) \n",
    "    df['text2'] = df['text2'].apply(remove_punctuation) \n",
    "    df['text2'] = df['text2'].apply(replace_numbers_with_words)\n",
    "    df['text2'] = df['text2'].apply(remove_stopwords_spacy)\n",
    "    df['text2'] = df['text2'].apply(remove_stopwords_spacy) \n",
    "    df['text2'] = df['text2'].apply(lemmatize_verbs)\n",
    "    df['text2'] = df['text2'].replace('', 'emogi') \n",
    "    return df"
   ]
  },
  {
   "cell_type": "code",
   "execution_count": 145,
   "metadata": {},
   "outputs": [],
   "source": [
    "# Se aplican todo el tratamiento de datos con la funcion normalizador para tener un texto mas limpio.\n",
    "train_messages2 = normalizador(train_messages)\n",
    "test_messages2 = normalizador(test_messages)\n",
    "validation_messages2 = normalizador(validation_messages) "
   ]
  },
  {
   "cell_type": "code",
   "execution_count": 158,
   "metadata": {},
   "outputs": [],
   "source": [
    "# Añadumos la columna label que nos da indica si el texto es verdad o mentira y lo reemplazamos por los valores de 1 y 0.\n",
    "train_messages2['label'] = train_sender \n",
    "test_messages2['label'] = test_sender \n",
    "validation_messages2['label'] = validation_sender  \n",
    "\n",
    "train_messages2['label'].replace({True: 1, False: 0}, inplace = True)\n",
    "test_messages2['label'].replace({True: 1, False: 0}, inplace = True)\n",
    "validation_messages2['label'].replace({True: 1, False: 0}, inplace = True)"
   ]
  },
  {
   "cell_type": "code",
   "execution_count": 168,
   "metadata": {},
   "outputs": [
    {
     "name": "stdout",
     "output_type": "stream",
     "text": [
      "label\n",
      "1    12541\n",
      "0      591\n",
      "Name: count, dtype: int64 \n",
      "\n",
      "label\n",
      "1    2501\n",
      "0     240\n",
      "Name: count, dtype: int64 \n",
      "\n",
      "label\n",
      "1    1360\n",
      "0      56\n",
      "Name: count, dtype: int64\n"
     ]
    }
   ],
   "source": [
    "# Se cuentan cuantos valores hay para cada categoria, se ve que hay un desbalanceo de clases. \n",
    "print(train_messages2['label'].value_counts(),'\\n')\n",
    "print(test_messages2['label'].value_counts(),'\\n')\n",
    "print(validation_messages2['label'].value_counts())"
   ]
  },
  {
   "cell_type": "markdown",
   "metadata": {},
   "source": [
    "# Modelo LLMS Largue Lenguage Models\n",
    "\n",
    "\n",
    "Implementamos un ecosistema de Hugging face"
   ]
  },
  {
   "cell_type": "code",
   "execution_count": 1098,
   "metadata": {},
   "outputs": [
    {
     "name": "stderr",
     "output_type": "stream",
     "text": [
      "Some weights of DistilBertForSequenceClassification were not initialized from the model checkpoint at distilbert-base-uncased and are newly initialized: ['classifier.bias', 'pre_classifier.weight', 'classifier.weight', 'pre_classifier.bias']\n",
      "You should probably TRAIN this model on a down-stream task to be able to use it for predictions and inference.\n"
     ]
    }
   ],
   "source": [
    "modelo = 'distilbert-base-uncased'\n",
    "# DistilBERT es una versión más pequeña y rápida de BERT que conserva gran parte de su rendimiento. El modelo está diseñado para tareas de clasificación de texto.\n",
    "# Es un modelo de atención basado en transformadores.\n",
    "# La capa de embeddings maneja la representación de palabras en vectores de alta dimensión. Utiliza embeddings de palabras y embeddings de posición para capturar la información semántica y contextual.\n",
    "# Utiliza capas lineales o densas para calcular los pesos mas un sesgo\n",
    "# Tiene una capa MultiHeadSelfAttention, esta capa permite que el modelo preste atención a diferentes partes de la secuencia de entrada de manera simultánea y en paralelo\n",
    "# esto permite que el modelo capture patrones complejos y relaciones a diferentes escalas en la secuencia de entrada.\n",
    "# modelo = 'roberta-base' # es posible utilizar roberta-base pero este modelo es mucho mas grande y llevara mas timepo entrenarlo.\n",
    "# \n",
    "\n",
    "# se define un label que represente si es una mentira o una verdad\n",
    "label1= {0: \"Lie\", 1:\"True\"}\n",
    "label2 = {\"Lie\":0, \"True\":1}\n",
    "\n",
    "# generamos el modelo de clasificacion para distilbert_base_uncased \n",
    "model = AutoModelForSequenceClassification.from_pretrained(\n",
    "    modelo, num_labels=2, id2label=label1, label2id=label2)"
   ]
  },
  {
   "cell_type": "code",
   "execution_count": 1099,
   "metadata": {},
   "outputs": [
    {
     "data": {
      "text/plain": [
       "DistilBertForSequenceClassification(\n",
       "  (distilbert): DistilBertModel(\n",
       "    (embeddings): Embeddings(\n",
       "      (word_embeddings): Embedding(30522, 768, padding_idx=0)\n",
       "      (position_embeddings): Embedding(512, 768)\n",
       "      (LayerNorm): LayerNorm((768,), eps=1e-12, elementwise_affine=True)\n",
       "      (dropout): Dropout(p=0.1, inplace=False)\n",
       "    )\n",
       "    (transformer): Transformer(\n",
       "      (layer): ModuleList(\n",
       "        (0): TransformerBlock(\n",
       "          (attention): MultiHeadSelfAttention(\n",
       "            (dropout): Dropout(p=0.1, inplace=False)\n",
       "            (q_lin): Linear(in_features=768, out_features=768, bias=True)\n",
       "            (k_lin): Linear(in_features=768, out_features=768, bias=True)\n",
       "            (v_lin): Linear(in_features=768, out_features=768, bias=True)\n",
       "            (out_lin): Linear(in_features=768, out_features=768, bias=True)\n",
       "          )\n",
       "          (sa_layer_norm): LayerNorm((768,), eps=1e-12, elementwise_affine=True)\n",
       "          (ffn): FFN(\n",
       "            (dropout): Dropout(p=0.1, inplace=False)\n",
       "            (lin1): Linear(in_features=768, out_features=3072, bias=True)\n",
       "            (lin2): Linear(in_features=3072, out_features=768, bias=True)\n",
       "            (activation): GELUActivation()\n",
       "          )\n",
       "          (output_layer_norm): LayerNorm((768,), eps=1e-12, elementwise_affine=True)\n",
       "        )\n",
       "        (1): TransformerBlock(\n",
       "          (attention): MultiHeadSelfAttention(\n",
       "            (dropout): Dropout(p=0.1, inplace=False)\n",
       "            (q_lin): Linear(in_features=768, out_features=768, bias=True)\n",
       "            (k_lin): Linear(in_features=768, out_features=768, bias=True)\n",
       "            (v_lin): Linear(in_features=768, out_features=768, bias=True)\n",
       "            (out_lin): Linear(in_features=768, out_features=768, bias=True)\n",
       "          )\n",
       "          (sa_layer_norm): LayerNorm((768,), eps=1e-12, elementwise_affine=True)\n",
       "          (ffn): FFN(\n",
       "            (dropout): Dropout(p=0.1, inplace=False)\n",
       "            (lin1): Linear(in_features=768, out_features=3072, bias=True)\n",
       "            (lin2): Linear(in_features=3072, out_features=768, bias=True)\n",
       "            (activation): GELUActivation()\n",
       "          )\n",
       "          (output_layer_norm): LayerNorm((768,), eps=1e-12, elementwise_affine=True)\n",
       "        )\n",
       "        (2): TransformerBlock(\n",
       "          (attention): MultiHeadSelfAttention(\n",
       "            (dropout): Dropout(p=0.1, inplace=False)\n",
       "            (q_lin): Linear(in_features=768, out_features=768, bias=True)\n",
       "            (k_lin): Linear(in_features=768, out_features=768, bias=True)\n",
       "            (v_lin): Linear(in_features=768, out_features=768, bias=True)\n",
       "            (out_lin): Linear(in_features=768, out_features=768, bias=True)\n",
       "          )\n",
       "          (sa_layer_norm): LayerNorm((768,), eps=1e-12, elementwise_affine=True)\n",
       "          (ffn): FFN(\n",
       "            (dropout): Dropout(p=0.1, inplace=False)\n",
       "            (lin1): Linear(in_features=768, out_features=3072, bias=True)\n",
       "            (lin2): Linear(in_features=3072, out_features=768, bias=True)\n",
       "            (activation): GELUActivation()\n",
       "          )\n",
       "          (output_layer_norm): LayerNorm((768,), eps=1e-12, elementwise_affine=True)\n",
       "        )\n",
       "        (3): TransformerBlock(\n",
       "          (attention): MultiHeadSelfAttention(\n",
       "            (dropout): Dropout(p=0.1, inplace=False)\n",
       "            (q_lin): Linear(in_features=768, out_features=768, bias=True)\n",
       "            (k_lin): Linear(in_features=768, out_features=768, bias=True)\n",
       "            (v_lin): Linear(in_features=768, out_features=768, bias=True)\n",
       "            (out_lin): Linear(in_features=768, out_features=768, bias=True)\n",
       "          )\n",
       "          (sa_layer_norm): LayerNorm((768,), eps=1e-12, elementwise_affine=True)\n",
       "          (ffn): FFN(\n",
       "            (dropout): Dropout(p=0.1, inplace=False)\n",
       "            (lin1): Linear(in_features=768, out_features=3072, bias=True)\n",
       "            (lin2): Linear(in_features=3072, out_features=768, bias=True)\n",
       "            (activation): GELUActivation()\n",
       "          )\n",
       "          (output_layer_norm): LayerNorm((768,), eps=1e-12, elementwise_affine=True)\n",
       "        )\n",
       "        (4): TransformerBlock(\n",
       "          (attention): MultiHeadSelfAttention(\n",
       "            (dropout): Dropout(p=0.1, inplace=False)\n",
       "            (q_lin): Linear(in_features=768, out_features=768, bias=True)\n",
       "            (k_lin): Linear(in_features=768, out_features=768, bias=True)\n",
       "            (v_lin): Linear(in_features=768, out_features=768, bias=True)\n",
       "            (out_lin): Linear(in_features=768, out_features=768, bias=True)\n",
       "          )\n",
       "          (sa_layer_norm): LayerNorm((768,), eps=1e-12, elementwise_affine=True)\n",
       "          (ffn): FFN(\n",
       "            (dropout): Dropout(p=0.1, inplace=False)\n",
       "            (lin1): Linear(in_features=768, out_features=3072, bias=True)\n",
       "            (lin2): Linear(in_features=3072, out_features=768, bias=True)\n",
       "            (activation): GELUActivation()\n",
       "          )\n",
       "          (output_layer_norm): LayerNorm((768,), eps=1e-12, elementwise_affine=True)\n",
       "        )\n",
       "        (5): TransformerBlock(\n",
       "          (attention): MultiHeadSelfAttention(\n",
       "            (dropout): Dropout(p=0.1, inplace=False)\n",
       "            (q_lin): Linear(in_features=768, out_features=768, bias=True)\n",
       "            (k_lin): Linear(in_features=768, out_features=768, bias=True)\n",
       "            (v_lin): Linear(in_features=768, out_features=768, bias=True)\n",
       "            (out_lin): Linear(in_features=768, out_features=768, bias=True)\n",
       "          )\n",
       "          (sa_layer_norm): LayerNorm((768,), eps=1e-12, elementwise_affine=True)\n",
       "          (ffn): FFN(\n",
       "            (dropout): Dropout(p=0.1, inplace=False)\n",
       "            (lin1): Linear(in_features=768, out_features=3072, bias=True)\n",
       "            (lin2): Linear(in_features=3072, out_features=768, bias=True)\n",
       "            (activation): GELUActivation()\n",
       "          )\n",
       "          (output_layer_norm): LayerNorm((768,), eps=1e-12, elementwise_affine=True)\n",
       "        )\n",
       "      )\n",
       "    )\n",
       "  )\n",
       "  (pre_classifier): Linear(in_features=768, out_features=768, bias=True)\n",
       "  (classifier): Linear(in_features=768, out_features=2, bias=True)\n",
       "  (dropout): Dropout(p=0.2, inplace=False)\n",
       ")"
      ]
     },
     "execution_count": 1099,
     "metadata": {},
     "output_type": "execute_result"
    }
   ],
   "source": [
    "# se muestra la arquitectura\n",
    "model"
   ]
  },
  {
   "cell_type": "code",
   "execution_count": 1017,
   "metadata": {},
   "outputs": [
    {
     "name": "stderr",
     "output_type": "stream",
     "text": [
      "[nltk_data] Downloading package punkt to\n",
      "[nltk_data]     C:\\Users\\laptop\\AppData\\Roaming\\nltk_data...\n",
      "[nltk_data]   Package punkt is already up-to-date!\n"
     ]
    },
    {
     "data": {
      "text/plain": [
       "112"
      ]
     },
     "execution_count": 1017,
     "metadata": {},
     "output_type": "execute_result"
    }
   ],
   "source": [
    "import pandas as pd\n",
    "from nltk.tokenize import word_tokenize\n",
    "import nltk\n",
    "nltk.download('punkt')\n",
    "\n",
    "\n",
    "train_messages2['text2'].apply(lambda x: len(word_tokenize(x))).max() "
   ]
  },
  {
   "cell_type": "markdown",
   "metadata": {},
   "source": [
    "# Tokenizador"
   ]
  },
  {
   "cell_type": "code",
   "execution_count": 1034,
   "metadata": {},
   "outputs": [],
   "source": [
    "# create tokenizer\n",
    "# Se carga un tokenizador preentrenado y se asegura que tenga un espacio antes del primer token.\n",
    "# Esto se utiliza comunmente para el procesamiento de secuencias en el lenguaje natural (NLP).\n",
    "\n",
    "tokenizer = AutoTokenizer.from_pretrained(modelo, add_prefix_space=True)\n",
    "\n",
    "# verifica si el token no es None, si no lo tiene lo agrega, y al final ajusta el tamaño de la capa embedding del modelo para el nuevo token. \n",
    "\n",
    "\n",
    "# Crear función para tokenizar\n",
    "def tokenize_function(examples):\n",
    "    text = examples[\"text2\"]\n",
    "    tokenizer.truncation_side = \"left\" # Se quita el lado izquierdo cuando el texto es mas largo que 512, por lo general cuadno empiezan hablando dan una introduccion y terminan con algo mas especifico\n",
    "    tokenized_inputs = tokenizer(\n",
    "        text,\n",
    "        return_tensors=\"np\", # regresa un arreglo numpy\n",
    "        truncation=True,\n",
    "        padding=True,\n",
    "        max_length=512\n",
    "    )\n",
    "    return tokenized_inputs['input_ids'][0], tokenized_inputs['attention_mask'][0]\n",
    "\n",
    "# Definir la función para tokenizar, paddear y crear la máscara de atención\n",
    "def tokenize_and_pad(df, text_column, tokenizer):\n",
    "    sequences = tokenizer(df[text_column].tolist(), return_tensors='np', padding=True, truncation=True, max_length = 112)\n",
    "    return sequences['input_ids'], sequences['attention_mask']\n",
    "\n",
    "################################################### DATA #################################################\n",
    "\n",
    "# Aplicar la función a cada fila del DataFrame\n",
    "input_ids_train, attention_mask_train = tokenize_and_pad(train_messages2, 'text2', tokenizer)\n",
    "train_tokenized = train_messages2.copy()\n",
    "train_tokenized['input_ids'] = list(input_ids_train)\n",
    "train_tokenized['attention_mask'] = list(attention_mask_train)\n",
    "\n",
    "# Aplicar la función a cada fila del DataFrame\n",
    "input_ids_test, attention_mask_test = tokenize_and_pad(test_messages2, 'text2', tokenizer)\n",
    "test_tokenized = test_messages2.copy()\n",
    "test_tokenized['input_ids'] = list(input_ids_test)\n",
    "test_tokenized['attention_mask'] = list(attention_mask_test)\n",
    "\n",
    "\n",
    "# Aplicar la función a cada fila del DataFrame\n",
    "input_ids_validation, attention_mask_validation = tokenize_and_pad(validation_messages2, 'text2', tokenizer)\n",
    "validation_tokenized = validation_messages2.copy()\n",
    "validation_tokenized['input_ids'] = list(input_ids_validation)\n",
    "validation_tokenized['attention_mask'] = list(attention_mask_validation)\n",
    "\n",
    "# Renombramos la columna text\n",
    "train_tokenized = train_tokenized.drop(columns = {'text'}) \n",
    "train_tokenized = train_tokenized.rename(columns = {'text2':'text'}) \n",
    "train_tokenized = train_tokenized[['label','text','input_ids','attention_mask']]\n",
    "\n",
    "test_tokenized = test_tokenized.drop(columns = {'text'}) \n",
    "test_tokenized = test_tokenized.rename(columns = {'text2':'text'}) \n",
    "test_tokenized = test_tokenized[['label','text','input_ids','attention_mask']]\n",
    "\n",
    "validation_tokenized = validation_tokenized.drop(columns = {'text'}) \n",
    "validation_tokenized = validation_tokenized.rename(columns = {'text2':'text'}) \n",
    "validation_tokenized = validation_tokenized[['label','text','input_ids','attention_mask']] "
   ]
  },
  {
   "cell_type": "markdown",
   "metadata": {},
   "source": [
    "# Grafico analisis\n",
    "\n",
    "A continuacion se presenta un grafico de las palabras mas comunes en el dataset de test.<br>\n",
    "Este tipo de analisis se utilizo para determinar algunas stopwords que no se tenian en cuenta en el modelo y asi añadirlas al nuevo diccionario.\n"
   ]
  },
  {
   "cell_type": "code",
   "execution_count": 1237,
   "metadata": {},
   "outputs": [
    {
     "data": {
      "image/png": "[encoded data removed]",
      "text/plain": [
       "<Figure size 2000x600 with 1 Axes>"
      ]
     },
     "metadata": {},
     "output_type": "display_data"
    }
   ],
   "source": [
    "import pandas as pd\n",
    "import matplotlib.pyplot as plt\n",
    "from nltk.tokenize import word_tokenize\n",
    "from nltk.probability import FreqDist\n",
    "\n",
    "\n",
    "# Tokenizar el texto y calcular la frecuencia de las palabras\n",
    "tokens = [word.lower() for text in train_tokenized['text'] for word in word_tokenize(text)]\n",
    "freq_dist = FreqDist(tokens)\n",
    "\n",
    "# Obtener las 10 palabras más frecuentes\n",
    "top_words = freq_dist.most_common(150) # [:-101:-1]\n",
    "\n",
    "# Crear un DataFrame para la visualización\n",
    "df_top_words = pd.DataFrame(top_words, columns=['Palabra', 'Frecuencia'])\n",
    "\n",
    "# Graficar las palabras más frecuentes\n",
    "plt.figure(figsize=(20, 6))\n",
    "plt.bar(df_top_words['Palabra'], df_top_words['Frecuencia'], color='skyblue')\n",
    "plt.xlabel('Palabra')\n",
    "plt.ylabel('Frecuencia')\n",
    "plt.title('Palabras más frecuentes en el texto')\n",
    "plt.xticks(rotation=90, ha='right')\n",
    "plt.show()\n"
   ]
  },
  {
   "cell_type": "markdown",
   "metadata": {},
   "source": [
    "De manera visual podemos saber cuales son los stopwords que utiliza el modelo spacy"
   ]
  },
  {
   "cell_type": "code",
   "execution_count": 1238,
   "metadata": {},
   "outputs": [
    {
     "name": "stdout",
     "output_type": "stream",
     "text": [
      "Stopwords en spaCy: {'', 'well', 'still', 'toward', 'from', 'g', 'afterwards', 'over', 'be', 'ho', 'among', 'own', 'too', 'hahaha', 'on', 'being', 'lol', 'anyway', 'further', 'after', 'per', 'whither', 'whereafter', 'were', 'then', 'in', '‘d', 'beside', 'hereafter', 'less', 'should', 'though', 'whoever', 'made', 'moreover', 'give', 'that', 'often', 'became', 'six', 'even', 'your', 'himself', \"'d\", 'top', 'such', 'eleven', 'everything', 'amongst', 'go', 'if', 'h', 'whereby', 'why', 'becomes', 'several', 'somehow', 'any', 'sixty', 'hereby', 'have', 'amount', 'mao', 'yours', 'serious', 'and', 'more', 'hundred', 'not', 'around', 'mine', 'put', 'down', 'm', 'now', 'namely', '‘m', 'somewhere', 'the', 'ah', 'latterly', 'our', '‘s', 'can', 'someone', \"n't\", 'f', 'these', '‘ve', 'could', 'between', 'others', 'across', 'while', 'nowhere', '’ve', 'may', 'three', \"'re\", 'its', 'anything', 'his', 'via', 'without', 'few', 'a', 'something', 'two', 'oh', 'cannot', 'their', 'neither', 'am', 'anyhow', 'get', 'we', 'which', 'them', 'this', 'ever', 'one', 'with', 'otherwise', 'through', 'former', 'nevertheless', 'there', 'nine', 'by', 'some', 'call', 'ten', 'herself', 'itself', 'however', 'my', 'both', 'they', 'used', 'haha', 'fifteen', 'did', 'same', 'everywhere', 'myself', 'bottom', 'five', 'keep', 'fifty', 'either', 'rn', 'at', 'various', 'once', 'other', 'will', 'every', 'an', 'since', 'full', 'whole', 'rather', 'beyond', 'last', 'become', 'about', 'unless', 'due', 'within', 'together', 'everyone', 'what', 'under', 'would', '’s', '’re', 'so', 'using', 'before', 's', 'empty', 'whence', 'thru', 'you', 'wherein', 'wo', 'name', 'anywhere', 'third', 'how', 'nothing', 'yourself', 'whenever', 'seeming', '‘re', 'or', 'me', 'move', 'up', \"'m\", 'another', 'thus', '’m', 'whose', 'thence', 'e', 'front', 'really', 'into', 'to', 'just', 'has', 'formerly', 'herein', 'also', 'wherever', 'seemed', 'us', 'do', 'make', '’ll', 'been', 'whereupon', 'else', \"'ll\", 'i', 'only', 'out', 'because', 'much', 'for', 'who', 'always', 'below', 'elsewhere', 'yet', 'part', 'ha', 'along', 'therefore', '’d', 'side', 'upon', \"'ve\", 'hers', 'nor', 'yourselves', 'anyone', 'during', 'almost', 'no', 'seem', 'again', 'therein', 'most', 'perhaps', 'latter', 'first', 'throughout', 'where', 'alone', 'quite', 'very', 'she', 'ours', 'is', 'please', 'whether', 'as', 'must', 'mostly', 'but', 'doing', 'sometimes', 'back', 'when', 'twelve', 'onto', 'many', 'regarding', 'towards', 'all', 'besides', '‘ll', 'n‘t', 'eight', 'indeed', 'above', 'are', 'never', 'does', 'sometime', 'except', 'least', 'was', 'twenty', 'forty', 'until', 'seems', 'thereupon', \"'s\", 'beforehand', 'becoming', 'here', 'those', 'although', 'none', 'next', 'had', 'na', ',', 'it', 'four', 'of', 'hereupon', 'noone', 'thereafter', 'behind', 'each', 'enough', 'ourselves', 'whereas', 'him', 'see', 'thereby', 'take', 'done', 'show', 'whatever', 'against', 'he', 'hence', 'her', 'say', 'meanwhile', 'already', 'nobody', 'ca', 'themselves', 'n’t', 'off', 'whom', 're', 'might', 'than'}\n"
     ]
    }
   ],
   "source": [
    "# Obtener la lista de stopwords en inglés\n",
    "stopwords_spacy = nlp.Defaults.stop_words\n",
    "\n",
    "# Mostrar la lista de stopwords\n",
    "print(\"Stopwords en spaCy:\", stopwords_spacy)"
   ]
  },
  {
   "cell_type": "code",
   "execution_count": 436,
   "metadata": {},
   "outputs": [],
   "source": [
    "# Definir las características\n",
    "features = Features({\n",
    "    'label': ClassLabel(names=[0, 1], id=None),\n",
    "    'text': Value(dtype='string', id=None),\n",
    "    'input_ids': Sequence(feature=Value(dtype='int64', id=None)),\n",
    "    'attention_mask': Sequence(feature=Value(dtype='int64', id=None)) \n",
    "})  \n",
    "\n",
    "train_tokenized.reset_index(drop=True, inplace=True)\n",
    "\n",
    "# Crear el conjunto de datos\n",
    "train_dataset = Dataset.from_pandas(train_tokenized, features=features)\n",
    "test_dataset = Dataset.from_pandas(test_tokenized, features=features) \n",
    "validation_dataset = Dataset.from_pandas(validation_tokenized, features=features)"
   ]
  },
  {
   "cell_type": "code",
   "execution_count": 438,
   "metadata": {},
   "outputs": [],
   "source": [
    "dataset_dict = DatasetDict({\n",
    "    \"train\": train_dataset,\n",
    "    \"test\": test_dataset,\n",
    "    \"validation\": validation_dataset,\n",
    "})"
   ]
  },
  {
   "cell_type": "code",
   "execution_count": 439,
   "metadata": {},
   "outputs": [
    {
     "data": {
      "text/plain": [
       "DatasetDict({\n",
       "    train: Dataset({\n",
       "        features: ['label', 'text', 'input_ids', 'attention_mask'],\n",
       "        num_rows: 13132\n",
       "    })\n",
       "    test: Dataset({\n",
       "        features: ['label', 'text', 'input_ids', 'attention_mask'],\n",
       "        num_rows: 2741\n",
       "    })\n",
       "    validation: Dataset({\n",
       "        features: ['label', 'text', 'input_ids', 'attention_mask'],\n",
       "        num_rows: 1416\n",
       "    })\n",
       "})"
      ]
     },
     "execution_count": 439,
     "metadata": {},
     "output_type": "execute_result"
    }
   ],
   "source": [
    "dataset_dict "
   ]
  },
  {
   "cell_type": "code",
   "execution_count": 231,
   "metadata": {},
   "outputs": [],
   "source": [
    "# Se crea un recopilador de datos, que rellenara dinámicamente los ejemplos en cada lote durante el entrenamiento \n",
    "# de modo que todos tengan la misma longitud. Esto es computacionalmente más eficiente que rellenar todos los ejemplos para que tengan la misma longitud \n",
    "# en todo el conjunto de datos.\n",
    "data_collator = DataCollatorWithPadding(tokenizer=tokenizer)"
   ]
  },
  {
   "cell_type": "markdown",
   "metadata": {},
   "source": [
    "# Metrica de evaluacion"
   ]
  },
  {
   "cell_type": "code",
   "execution_count": 233,
   "metadata": {},
   "outputs": [],
   "source": [
    "# import accuracy evaluation metric\n",
    "accuracy = evaluate.load(\"accuracy\")\n",
    "\n",
    "# se define una funcion de evaluacion que sera utilizada en el entranmiento\n",
    "def compute_metrics(p):\n",
    "    predictions, labels = p\n",
    "    predictions = np.argmax(predictions, axis=1)\n",
    "\n",
    "    return {\"accuracy\": accuracy.compute(predictions=predictions, references=labels)}"
   ]
  },
  {
   "cell_type": "markdown",
   "metadata": {},
   "source": [
    "# Modelo 1 - BASELINE de entrenamiento\n",
    "\n",
    "Esta configuracion se basa en el articulo:\n",
    "\n",
    "loRA: LOW-RANK ADAPTATION OF LARGE LANGUAGE MODELS - 2021 </br>\n",
    "Edward Hu∗ Yelong Shen∗ Phillip Wallis Zeyuan Allen-Zhu </br>\n",
    "Yuanzhi Li Shean Wang Lu Wang Weizhu Chen\n",
    "\n",
    "Una red neuronal contiene muchas capas densas que realizan la multiplicación de matrices. Las matrices de peso en estas capas suelen tener rango completo. Al adaptarse a una tarea específica, muestra que los modelos de lenguaje previamente entrenados tienen una \"dimensión instrinseca\" baja y aún pueden aprender de manera eficiente a pesar de una proyeccion aleatoria a un subespacio más pequeño. A raiz de esto, se plantea la hipotesis de que las actualizaciones de las ponderaciones también tienen un \"rango intrínseco\" bajo durante la adaptacion.\n",
    "\n",
    "Al aplicar LoRA a todas las matrices de peso y entrenar todos los sesgos, recuperamos aproximadamente la expresividad del ajuste fino completo al establecer el rango r de LoRA en el rango de las matrices de peso previamente entrenadas. En otras palabras, a medida que aumentamos la cantidad de parámetros entrenables, el entrenamiento de LoRA converge aproximadamente al entrenamiento del modelo original.\n",
    "\n",
    "LoRA se basa en truncar la descomposicion de valores singulares (SVD) de una matriz de rango superior para obtener la aproximacion. </br>\n",
    "Es posible encontrar una aproximación de rango reducida a A estableciendo todos, excepto los primeros k valores singulares más grandes, iguales a cero y usando solo las primeras k columnas de U y V, en la ecuación: A = U * S * V(T). Ademas, de reemplazar por ser los valores singulares mas pequeños en la diagonal de S. </br>\n",
    "Despues de un fine tunning, las matrices de rango bajo se pueden reconstruir en matrices de rango completo usando la misma tecnica de descomposición, y el modelo de lenguaje grande (LLM) adaptado resultante, se puede usar para tareas posteriores en el nuevo dominio.\n",
    "\n",
    "LoRA es el proceso de representar la información en una Matriz M utilizando una matriz M2 que tiene un rango menor que la matriz original. Para reducir el rango de M2, podemos intentar construir la matriz como una combinación de una matriz izquierda Lk y una matriz amplia derecha Rk transpuesta.\n",
    "\n",
    "Por ejemlpo para una capa de una red neuronal se tiene:\n",
    "\n",
    "h(x) = W0 * x + delta W * x   siendo : delta W = BA\n",
    "Entonces:\n",
    "\n",
    "h(x) = W0 * x + B * A * X \n",
    "\n",
    "DONDE :\n",
    "\n",
    "W0 pertenece a todo R elevado a (d x k)</br>\n",
    "B pertenece a todo R elevado a (d x r)</br>\n",
    "A pertecene a todo R elevado a (r x k)</br>\n",
    "h pertenece a todo R elevado a (d x 1)</br>\n",
    "\n",
    "siendo r, un factor mutiplicador que define el tamaño de la matrix B y A que corresponden a los pesos que seran entrenados en la red neuronal y dejando congelado el peso de W0. \n",
    "Este valor de r es el que se ve en la siguiente linea de codigo r = 4. Hay un termino adicional alpha que multiplica a: alpha*B*A*x que se traduce como un  para la reparametrizacion de LoRA.\n",
    "\n",
    "Algunas ventajas de esta tecnica son: \n",
    "- la reduccion de ruido</br>\n",
    "- compresion de las matrices para reducir el gaste computacional </br>\n",
    "- detecta patrones escondidos en los datos.</br>\n",
    "- Parameter efficient fine tunning  -LoRA (Low Rank Adaptation) una proyeccion aleatoria a un pequeño subespacio</br>\n",
    "- LoRA: congela los pesos de los modelos previamente entrenados e introduce matrices de descomposicion de rangos entrenables en cada capa del transformer.</br>\n",
    "- Fine tunning implica copiar los pesos de la red previamente entrenada y ajustarlos en la tarea posterior (un nuevo conjunto de pesos de cada tarea).</br>\n",
    "- LoRA reduce el numero de paramtros entrenables por 10,000 veces y los requerimientos de la memoria de la GPU por 3 veces.</br>"
   ]
  },
  {
   "cell_type": "code",
   "execution_count": 234,
   "metadata": {},
   "outputs": [],
   "source": [
    "peft_config = LoraConfig(task_type=\"SEQ_CLS\", # sequence classification\n",
    "                        r=4, # intrinsic rank of trainable weight matrix\n",
    "                        lora_alpha=32, # used for scalling the LoRA reparametrization .\n",
    "                        lora_dropout=0.01, # probablity of dropout\n",
    "                        target_modules = ['q_lin']) # we apply LoRA to query layer only"
   ]
  },
  {
   "cell_type": "markdown",
   "metadata": {},
   "source": [
    "creamos una nueva version de nuestro modelo que se puede entrenar mediante PEFT (parameter efficient fine tunning)."
   ]
  },
  {
   "cell_type": "code",
   "execution_count": 235,
   "metadata": {},
   "outputs": [
    {
     "data": {
      "text/plain": [
       "LoraConfig(peft_type=<PeftType.LORA: 'LORA'>, auto_mapping=None, base_model_name_or_path=None, revision=None, task_type='SEQ_CLS', inference_mode=False, r=4, target_modules={'q_lin'}, lora_alpha=32, lora_dropout=0.01, fan_in_fan_out=False, bias='none', modules_to_save=None, init_lora_weights=True, layers_to_transform=None, layers_pattern=None, rank_pattern={}, alpha_pattern={}, megatron_config=None, megatron_core='megatron.core', loftq_config={})"
      ]
     },
     "execution_count": 235,
     "metadata": {},
     "output_type": "execute_result"
    }
   ],
   "source": [
    "# podemos ver como quedo la configuracion\n",
    "peft_config"
   ]
  },
  {
   "cell_type": "code",
   "execution_count": 236,
   "metadata": {},
   "outputs": [
    {
     "name": "stdout",
     "output_type": "stream",
     "text": [
      "trainable params: 628,994 || all params: 67,584,004 || trainable%: 0.9306847223789819\n"
     ]
    }
   ],
   "source": [
    "model = get_peft_model(model, peft_config)\n",
    "model.print_trainable_parameters()"
   ]
  },
  {
   "cell_type": "code",
   "execution_count": 313,
   "metadata": {},
   "outputs": [],
   "source": [
    "# hyperparametros\n",
    "lr = 1e-3 # size of optimization step \n",
    "batch_size = 4 # number of examples processed per optimziation step\n",
    "num_epochs = 10 # number of times model runs through training data\n",
    "\n",
    "# define training arguments\n",
    "training_args = TrainingArguments(\n",
    "    output_dir= modelo + \"-lora-text-classification\",\n",
    "    learning_rate=lr,\n",
    "    per_device_train_batch_size=batch_size, \n",
    "    per_device_eval_batch_size=batch_size,\n",
    "    num_train_epochs=num_epochs,\n",
    "    weight_decay=0.01,\n",
    "    evaluation_strategy=\"epoch\",\n",
    "    save_strategy=\"epoch\",\n",
    "    load_best_model_at_end=True,\n",
    ")"
   ]
  },
  {
   "cell_type": "code",
   "execution_count": 440,
   "metadata": {},
   "outputs": [
    {
     "name": "stderr",
     "output_type": "stream",
     "text": [
      "  0%|          | 0/16415 [47:32<?, ?it/s]\n",
      "  3%|▎         | 501/16415 [00:47<24:00, 11.05it/s]"
     ]
    },
    {
     "name": "stdout",
     "output_type": "stream",
     "text": [
      "{'loss': 102.8817, 'learning_rate': 0.09695400548279014, 'epoch': 0.15}\n"
     ]
    },
    {
     "name": "stderr",
     "output_type": "stream",
     "text": [
      "  6%|▌         | 1002/16415 [01:31<21:26, 11.98it/s]"
     ]
    },
    {
     "name": "stdout",
     "output_type": "stream",
     "text": [
      "{'loss': 30.4656, 'learning_rate': 0.09390801096558027, 'epoch': 0.3}\n"
     ]
    },
    {
     "name": "stderr",
     "output_type": "stream",
     "text": [
      "  9%|▉         | 1502/16415 [02:15<20:39, 12.03it/s]"
     ]
    },
    {
     "name": "stdout",
     "output_type": "stream",
     "text": [
      "{'loss': 8.8291, 'learning_rate': 0.0908620164483704, 'epoch': 0.46}\n"
     ]
    },
    {
     "name": "stderr",
     "output_type": "stream",
     "text": [
      " 12%|█▏        | 2001/16415 [02:58<18:56, 12.69it/s]"
     ]
    },
    {
     "name": "stdout",
     "output_type": "stream",
     "text": [
      "{'loss': 13.1447, 'learning_rate': 0.08781602193116053, 'epoch': 0.61}\n"
     ]
    },
    {
     "name": "stderr",
     "output_type": "stream",
     "text": [
      " 15%|█▌        | 2501/16415 [03:41<18:20, 12.65it/s]"
     ]
    },
    {
     "name": "stdout",
     "output_type": "stream",
     "text": [
      "{'loss': 3.7788, 'learning_rate': 0.08477002741395066, 'epoch': 0.76}\n"
     ]
    },
    {
     "name": "stderr",
     "output_type": "stream",
     "text": [
      " 18%|█▊        | 3001/16415 [04:24<18:11, 12.29it/s]"
     ]
    },
    {
     "name": "stdout",
     "output_type": "stream",
     "text": [
      "{'loss': 2.014, 'learning_rate': 0.0817240328967408, 'epoch': 0.91}\n"
     ]
    },
    {
     "name": "stderr",
     "output_type": "stream",
     "text": [
      " 20%|█▉        | 3282/16415 [04:56<22:13,  9.85it/s]Trainer is attempting to log a value of \"{'accuracy': 0.9124407150674936}\" of type <class 'dict'> for key \"eval/accuracy\" as a scalar. This invocation of Tensorboard's writer.add_scalar() is incorrect so we dropped this attribute.\n",
      "                                                    \n",
      " 20%|██        | 3283/16415 [05:22<22:13,  9.85it/s]"
     ]
    },
    {
     "name": "stdout",
     "output_type": "stream",
     "text": [
      "{'eval_loss': 0.3233390152454376, 'eval_accuracy': {'accuracy': 0.9124407150674936}, 'eval_runtime': 26.104, 'eval_samples_per_second': 105.003, 'eval_steps_per_second': 26.28, 'epoch': 1.0}\n"
     ]
    },
    {
     "name": "stderr",
     "output_type": "stream",
     "text": [
      " 21%|██▏       | 3501/16415 [05:46<21:29, 10.01it/s]   "
     ]
    },
    {
     "name": "stdout",
     "output_type": "stream",
     "text": [
      "{'loss': 0.2238, 'learning_rate': 0.07867803837953091, 'epoch': 1.07}\n"
     ]
    },
    {
     "name": "stderr",
     "output_type": "stream",
     "text": [
      " 24%|██▍       | 4001/16415 [06:36<19:18, 10.72it/s]"
     ]
    },
    {
     "name": "stdout",
     "output_type": "stream",
     "text": [
      "{'loss': 0.2041, 'learning_rate': 0.07563204386232106, 'epoch': 1.22}\n"
     ]
    },
    {
     "name": "stderr",
     "output_type": "stream",
     "text": [
      " 27%|██▋       | 4500/16415 [07:24<15:59, 12.41it/s]"
     ]
    },
    {
     "name": "stdout",
     "output_type": "stream",
     "text": [
      "{'loss': 0.195, 'learning_rate': 0.07258604934511119, 'epoch': 1.37}\n"
     ]
    },
    {
     "name": "stderr",
     "output_type": "stream",
     "text": [
      " 30%|███       | 5000/16415 [08:10<15:11, 12.53it/s]"
     ]
    },
    {
     "name": "stdout",
     "output_type": "stream",
     "text": [
      "{'loss': 0.1698, 'learning_rate': 0.06954005482790131, 'epoch': 1.52}\n"
     ]
    },
    {
     "name": "stderr",
     "output_type": "stream",
     "text": [
      " 34%|███▎      | 5501/16415 [08:57<16:22, 11.11it/s]"
     ]
    },
    {
     "name": "stdout",
     "output_type": "stream",
     "text": [
      "{'loss': 0.1799, 'learning_rate': 0.06649406031069144, 'epoch': 1.68}\n"
     ]
    },
    {
     "name": "stderr",
     "output_type": "stream",
     "text": [
      " 37%|███▋      | 6001/16415 [09:46<15:12, 11.41it/s]"
     ]
    },
    {
     "name": "stdout",
     "output_type": "stream",
     "text": [
      "{'loss': 0.1906, 'learning_rate': 0.06344806579348157, 'epoch': 1.83}\n"
     ]
    },
    {
     "name": "stderr",
     "output_type": "stream",
     "text": [
      " 40%|███▉      | 6501/16415 [10:32<13:57, 11.83it/s]"
     ]
    },
    {
     "name": "stdout",
     "output_type": "stream",
     "text": [
      "{'loss': 0.1929, 'learning_rate': 0.06040207127627171, 'epoch': 1.98}\n"
     ]
    },
    {
     "name": "stderr",
     "output_type": "stream",
     "text": [
      " 40%|████      | 6566/16415 [10:52<15:59, 10.26it/s]Trainer is attempting to log a value of \"{'accuracy': 0.9124407150674936}\" of type <class 'dict'> for key \"eval/accuracy\" as a scalar. This invocation of Tensorboard's writer.add_scalar() is incorrect so we dropped this attribute.\n",
      "                                                    \n",
      " 40%|████      | 6566/16415 [11:09<15:59, 10.26it/s]"
     ]
    },
    {
     "name": "stdout",
     "output_type": "stream",
     "text": [
      "{'eval_loss': 0.3010021448135376, 'eval_accuracy': {'accuracy': 0.9124407150674936}, 'eval_runtime': 31.8922, 'eval_samples_per_second': 85.946, 'eval_steps_per_second': 21.51, 'epoch': 2.0}\n"
     ]
    },
    {
     "name": "stderr",
     "output_type": "stream",
     "text": [
      " 43%|████▎     | 7001/16415 [12:02<23:54,  6.56it/s]   "
     ]
    },
    {
     "name": "stdout",
     "output_type": "stream",
     "text": [
      "{'loss': 0.2016, 'learning_rate': 0.05735607675906184, 'epoch': 2.13}\n"
     ]
    },
    {
     "name": "stderr",
     "output_type": "stream",
     "text": [
      " 46%|████▌     | 7502/16415 [12:55<12:58, 11.44it/s]"
     ]
    },
    {
     "name": "stdout",
     "output_type": "stream",
     "text": [
      "{'loss': 0.1457, 'learning_rate': 0.054310082241851965, 'epoch': 2.28}\n"
     ]
    },
    {
     "name": "stderr",
     "output_type": "stream",
     "text": [
      " 49%|████▊     | 8001/16415 [13:44<13:09, 10.65it/s]"
     ]
    },
    {
     "name": "stdout",
     "output_type": "stream",
     "text": [
      "{'loss': 0.1964, 'learning_rate': 0.051264087724642096, 'epoch': 2.44}\n"
     ]
    },
    {
     "name": "stderr",
     "output_type": "stream",
     "text": [
      " 52%|█████▏    | 8502/16415 [14:35<10:43, 12.29it/s]"
     ]
    },
    {
     "name": "stdout",
     "output_type": "stream",
     "text": [
      "{'loss': 0.182, 'learning_rate': 0.04821809320743223, 'epoch': 2.59}\n"
     ]
    },
    {
     "name": "stderr",
     "output_type": "stream",
     "text": [
      " 55%|█████▍    | 9002/16415 [15:24<11:17, 10.94it/s]"
     ]
    },
    {
     "name": "stdout",
     "output_type": "stream",
     "text": [
      "{'loss': 0.1938, 'learning_rate': 0.04517209869022236, 'epoch': 2.74}\n"
     ]
    },
    {
     "name": "stderr",
     "output_type": "stream",
     "text": [
      " 58%|█████▊    | 9501/16415 [16:08<09:47, 11.77it/s]"
     ]
    },
    {
     "name": "stdout",
     "output_type": "stream",
     "text": [
      "{'loss': 0.1889, 'learning_rate': 0.04212610417301249, 'epoch': 2.89}\n"
     ]
    },
    {
     "name": "stderr",
     "output_type": "stream",
     "text": [
      " 60%|██████    | 9849/16415 [16:52<09:28, 11.56it/s]Trainer is attempting to log a value of \"{'accuracy': 0.9124407150674936}\" of type <class 'dict'> for key \"eval/accuracy\" as a scalar. This invocation of Tensorboard's writer.add_scalar() is incorrect so we dropped this attribute.\n",
      "                                                    \n",
      " 60%|██████    | 9849/16415 [16:59<09:28, 11.56it/s]"
     ]
    },
    {
     "name": "stdout",
     "output_type": "stream",
     "text": [
      "{'eval_loss': 0.30191779136657715, 'eval_accuracy': {'accuracy': 0.9124407150674936}, 'eval_runtime': 20.2982, 'eval_samples_per_second': 135.036, 'eval_steps_per_second': 33.796, 'epoch': 3.0}\n"
     ]
    },
    {
     "name": "stderr",
     "output_type": "stream",
     "text": [
      " 61%|██████    | 10000/16415 [17:14<10:30, 10.17it/s] "
     ]
    },
    {
     "name": "stdout",
     "output_type": "stream",
     "text": [
      "{'loss': 0.1919, 'learning_rate': 0.03908010965580262, 'epoch': 3.05}\n"
     ]
    },
    {
     "name": "stderr",
     "output_type": "stream",
     "text": [
      " 64%|██████▍   | 10501/16415 [17:58<08:17, 11.89it/s]"
     ]
    },
    {
     "name": "stdout",
     "output_type": "stream",
     "text": [
      "{'loss': 0.1851, 'learning_rate': 0.03603411513859275, 'epoch': 3.2}\n"
     ]
    },
    {
     "name": "stderr",
     "output_type": "stream",
     "text": [
      " 67%|██████▋   | 11002/16415 [18:42<07:09, 12.59it/s]"
     ]
    },
    {
     "name": "stdout",
     "output_type": "stream",
     "text": [
      "{'loss': 0.1868, 'learning_rate': 0.032988120621382885, 'epoch': 3.35}\n"
     ]
    },
    {
     "name": "stderr",
     "output_type": "stream",
     "text": [
      " 70%|███████   | 11501/16415 [19:27<07:00, 11.68it/s]"
     ]
    },
    {
     "name": "stdout",
     "output_type": "stream",
     "text": [
      "{'loss': 0.2092, 'learning_rate': 0.029942126104173013, 'epoch': 3.5}\n"
     ]
    },
    {
     "name": "stderr",
     "output_type": "stream",
     "text": [
      " 73%|███████▎  | 12001/16415 [20:14<06:36, 11.12it/s]"
     ]
    },
    {
     "name": "stdout",
     "output_type": "stream",
     "text": [
      "{'loss': 0.1941, 'learning_rate': 0.02689613158696315, 'epoch': 3.66}\n"
     ]
    },
    {
     "name": "stderr",
     "output_type": "stream",
     "text": [
      " 76%|███████▌  | 12502/16415 [21:00<05:24, 12.05it/s]"
     ]
    },
    {
     "name": "stdout",
     "output_type": "stream",
     "text": [
      "{'loss': 0.1611, 'learning_rate': 0.023850137069753276, 'epoch': 3.81}\n"
     ]
    },
    {
     "name": "stderr",
     "output_type": "stream",
     "text": [
      " 79%|███████▉  | 13002/16415 [21:48<04:36, 12.32it/s]"
     ]
    },
    {
     "name": "stdout",
     "output_type": "stream",
     "text": [
      "{'loss': 0.1922, 'learning_rate': 0.020804142552543408, 'epoch': 3.96}\n"
     ]
    },
    {
     "name": "stderr",
     "output_type": "stream",
     "text": [
      " 80%|████████  | 13132/16415 [22:02<06:12,  8.81it/s]Trainer is attempting to log a value of \"{'accuracy': 0.9124407150674936}\" of type <class 'dict'> for key \"eval/accuracy\" as a scalar. This invocation of Tensorboard's writer.add_scalar() is incorrect so we dropped this attribute.\n",
      "                                                     \n",
      " 80%|████████  | 13132/16415 [22:29<06:12,  8.81it/s]"
     ]
    },
    {
     "name": "stdout",
     "output_type": "stream",
     "text": [
      "{'eval_loss': 0.3318105936050415, 'eval_accuracy': {'accuracy': 0.9124407150674936}, 'eval_runtime': 27.6475, 'eval_samples_per_second': 99.141, 'eval_steps_per_second': 24.812, 'epoch': 4.0}\n"
     ]
    },
    {
     "name": "stderr",
     "output_type": "stream",
     "text": [
      " 82%|████████▏ | 13501/16415 [23:05<04:49, 10.06it/s]  "
     ]
    },
    {
     "name": "stdout",
     "output_type": "stream",
     "text": [
      "{'loss': 0.1518, 'learning_rate': 0.01775814803533354, 'epoch': 4.11}\n"
     ]
    },
    {
     "name": "stderr",
     "output_type": "stream",
     "text": [
      " 85%|████████▌ | 14002/16415 [23:51<03:25, 11.75it/s]"
     ]
    },
    {
     "name": "stdout",
     "output_type": "stream",
     "text": [
      "{'loss': 0.2244, 'learning_rate': 0.014712153518123668, 'epoch': 4.26}\n"
     ]
    },
    {
     "name": "stderr",
     "output_type": "stream",
     "text": [
      " 88%|████████▊ | 14501/16415 [24:39<02:50, 11.21it/s]"
     ]
    },
    {
     "name": "stdout",
     "output_type": "stream",
     "text": [
      "{'loss': 0.1915, 'learning_rate': 0.0116661590009138, 'epoch': 4.42}\n"
     ]
    },
    {
     "name": "stderr",
     "output_type": "stream",
     "text": [
      " 91%|█████████▏| 15001/16415 [25:29<02:24,  9.76it/s]"
     ]
    },
    {
     "name": "stdout",
     "output_type": "stream",
     "text": [
      "{'loss': 0.1813, 'learning_rate': 0.008620164483703929, 'epoch': 4.57}\n"
     ]
    },
    {
     "name": "stderr",
     "output_type": "stream",
     "text": [
      " 94%|█████████▍| 15500/16415 [26:22<01:29, 10.21it/s]"
     ]
    },
    {
     "name": "stdout",
     "output_type": "stream",
     "text": [
      "{'loss': 0.1809, 'learning_rate': 0.0055741699664940605, 'epoch': 4.72}\n"
     ]
    },
    {
     "name": "stderr",
     "output_type": "stream",
     "text": [
      " 97%|█████████▋| 16002/16415 [27:09<00:33, 12.25it/s]"
     ]
    },
    {
     "name": "stdout",
     "output_type": "stream",
     "text": [
      "{'loss': 0.1793, 'learning_rate': 0.0025281754492841916, 'epoch': 4.87}\n"
     ]
    },
    {
     "name": "stderr",
     "output_type": "stream",
     "text": [
      "100%|██████████| 16415/16415 [28:03<00:00, 12.59it/s]Trainer is attempting to log a value of \"{'accuracy': 0.9124407150674936}\" of type <class 'dict'> for key \"eval/accuracy\" as a scalar. This invocation of Tensorboard's writer.add_scalar() is incorrect so we dropped this attribute.\n",
      "                                                     \n",
      "100%|██████████| 16415/16415 [28:10<00:00, 12.59it/s]"
     ]
    },
    {
     "name": "stdout",
     "output_type": "stream",
     "text": [
      "{'eval_loss': 0.3192318379878998, 'eval_accuracy': {'accuracy': 0.9124407150674936}, 'eval_runtime': 21.5712, 'eval_samples_per_second': 127.067, 'eval_steps_per_second': 31.802, 'epoch': 5.0}\n"
     ]
    },
    {
     "name": "stderr",
     "output_type": "stream",
     "text": [
      "100%|██████████| 16415/16415 [28:10<00:00,  9.71it/s]"
     ]
    },
    {
     "name": "stdout",
     "output_type": "stream",
     "text": [
      "{'train_runtime': 1690.6842, 'train_samples_per_second': 38.836, 'train_steps_per_second': 9.709, 'train_loss': 5.060581707613083, 'epoch': 5.0}\n"
     ]
    },
    {
     "name": "stderr",
     "output_type": "stream",
     "text": [
      "\n"
     ]
    },
    {
     "data": {
      "text/plain": [
       "TrainOutput(global_step=16415, training_loss=5.060581707613083, metrics={'train_runtime': 1690.6842, 'train_samples_per_second': 38.836, 'train_steps_per_second': 9.709, 'train_loss': 5.060581707613083, 'epoch': 5.0})"
      ]
     },
     "execution_count": 440,
     "metadata": {},
     "output_type": "execute_result"
    }
   ],
   "source": [
    "# creater trainer object\n",
    "trainer = Trainer(\n",
    "    model=model, # our peft model\n",
    "    args=training_args, # hyperparameters\n",
    "    train_dataset= dataset_dict['train'], # training data \n",
    "    eval_dataset=dataset_dict['test'], # test data  \n",
    "    tokenizer=tokenizer, # define tokenizer\n",
    "    data_collator=data_collator, # this will dynamically pad examples in each batch to be equal length\n",
    "    compute_metrics=compute_metrics, # evaluates model using compute_metrics() function from before\n",
    ")\n",
    "\n",
    "# train model\n",
    "trainer.train()"
   ]
  },
  {
   "cell_type": "code",
   "execution_count": 482,
   "metadata": {},
   "outputs": [
    {
     "name": "stdout",
     "output_type": "stream",
     "text": [
      "Trained model predictions:\n",
      "--------------------------\n",
      "True\n",
      "whet appetite italy suggestion - True\n"
     ]
    }
   ],
   "source": [
    "device = \"cuda\" if torch.cuda.is_available() else \"cpu\"\n",
    "model.to(device)\n",
    "print(\"Trained model predictions:\")\n",
    "print(\"--------------------------\")\n",
    "for text in train_tokenized[['text']].iloc[1]:  \n",
    "    # Tokeniza y codifica el texto\n",
    "    inputs = tokenizer.encode(text, return_tensors=\"pt\").to(device)\n",
    "\n",
    "    # Realiza la inferencia en el modelo\n",
    "    logits = model(inputs).logits\n",
    "    predictions = torch.max(logits, 1).indices\n",
    "    print(id2label[predictions.tolist()[0]]) \n",
    "\n",
    "    print(text + \" - \" + id2label[predictions.tolist()[0]])"
   ]
  },
  {
   "cell_type": "code",
   "execution_count": 494,
   "metadata": {},
   "outputs": [],
   "source": [
    "# realizamos las predicciones para los datos de testeo para calcular las metricas y ver la calidad del modelo con los datos utilizados\n",
    "prediction_f = []\n",
    "for index, row in test_tokenized.iterrows(): \n",
    "    text = row['text']\n",
    "\n",
    "    # Tokeniza y codifica el texto\n",
    "    inputs = tokenizer.encode(text, return_tensors=\"pt\").to(device)\n",
    "\n",
    "    # Realiza la inferencia en el modelo\n",
    "    logits = model(inputs).logits\n",
    "    predictions = torch.max(logits, 1).indices\n",
    "    prediction_f.append([text, predictions.tolist()[0]])\n",
    "if len(prediction_f) > 0:\n",
    "    result = pd.DataFrame(prediction_f).rename(columns={0:'text',1:'label_predicted'})"
   ]
  },
  {
   "cell_type": "code",
   "execution_count": 495,
   "metadata": {},
   "outputs": [
    {
     "name": "stdout",
     "output_type": "stream",
     "text": [
      "Accuracy: 0.91\n",
      "Confusion Matrix:\n",
      "[[   0  240]\n",
      " [   0 2501]]\n"
     ]
    }
   ],
   "source": [
    "from sklearn.metrics import accuracy_score, confusion_matrix\n",
    "\n",
    "\n",
    "accuracy = accuracy_score(test_tokenized['label'], result['label_predicted'])\n",
    "print(f'Accuracy: {accuracy:.2f}')\n",
    "\n",
    "# Calcula la matriz de confusión\n",
    "conf_matrix = confusion_matrix(test_tokenized['label'], result['label_predicted'])\n",
    "print('Confusion Matrix:')\n",
    "print(conf_matrix)"
   ]
  },
  {
   "cell_type": "markdown",
   "metadata": {},
   "source": [
    "El accuracy representa el porcentaje total de valores correctamente clasificados, tanto negativos como positivos, en este caso en particular se obtiene un valor muy alto ya que la clase mayoritaria de 1 esta bien clasificada lo cual corresponde a ese 91% mientras que el restante que son 0 es decir la mentira, no se clasifican correctamente."
   ]
  },
  {
   "cell_type": "code",
   "execution_count": 506,
   "metadata": {},
   "outputs": [
    {
     "name": "stderr",
     "output_type": "stream",
     "text": [
      "d:\\rn\\tf\\lib\\site-packages\\sklearn\\metrics\\_classification.py:1471: UndefinedMetricWarning: Precision and F-score are ill-defined and being set to 0.0 in labels with no predicted samples. Use `zero_division` parameter to control this behavior.\n",
      "  _warn_prf(average, modifier, msg_start, len(result))\n",
      "d:\\rn\\tf\\lib\\site-packages\\sklearn\\metrics\\_classification.py:1471: UndefinedMetricWarning: Precision and F-score are ill-defined and being set to 0.0 in labels with no predicted samples. Use `zero_division` parameter to control this behavior.\n",
      "  _warn_prf(average, modifier, msg_start, len(result))\n",
      "d:\\rn\\tf\\lib\\site-packages\\sklearn\\metrics\\_classification.py:1471: UndefinedMetricWarning: Precision and F-score are ill-defined and being set to 0.0 in labels with no predicted samples. Use `zero_division` parameter to control this behavior.\n",
      "  _warn_prf(average, modifier, msg_start, len(result))\n"
     ]
    },
    {
     "data": {
      "image/png": "[encoded data removed]",
      "text/plain": [
       "<Figure size 640x480 with 2 Axes>"
      ]
     },
     "metadata": {},
     "output_type": "display_data"
    },
    {
     "name": "stdout",
     "output_type": "stream",
     "text": [
      "Reporte de Clasificación:\n",
      "              precision    recall  f1-score   support\n",
      "\n",
      "           0       0.00      0.00      0.00       240\n",
      "           1       0.91      1.00      0.95      2501\n",
      "\n",
      "    accuracy                           0.91      2741\n",
      "   macro avg       0.46      0.50      0.48      2741\n",
      "weighted avg       0.83      0.91      0.87      2741\n",
      "\n"
     ]
    }
   ],
   "source": [
    "import seaborn as sns\n",
    "import matplotlib.pyplot as plt\n",
    "from sklearn.metrics import confusion_matrix, classification_report\n",
    "\n",
    "# Calcula la matriz de confusión\n",
    "conf_matrix = confusion_matrix(test_tokenized['label'], result['label_predicted'])\n",
    "\n",
    "# Calcula el reporte de clasificación\n",
    "class_report = classification_report(test_tokenized['label'], result['label_predicted'])\n",
    "\n",
    "# Crea un mapa de calor de la matriz de confusión\n",
    "sns.heatmap(conf_matrix, annot=True, fmt='d', cmap='Blues', annot_kws={\"size\": 16})\n",
    "plt.xlabel('Etiquetas Predichas')\n",
    "plt.ylabel('Etiquetas Reales')\n",
    "plt.title('Matriz de Confusión')\n",
    "plt.show()\n",
    "\n",
    "# Imprime el reporte de clasificación\n",
    "print(\"Reporte de Clasificación:\")\n",
    "print(class_report)"
   ]
  },
  {
   "cell_type": "markdown",
   "metadata": {},
   "source": [
    "# Conclusion 1"
   ]
  },
  {
   "cell_type": "markdown",
   "metadata": {},
   "source": [
    "Se puede observar una buena precision en el modelo, sin embargo la matrix de confusion me dice que los datos predicen muy bien para la clase mayoritaria, sin embargo para la clase minoritaria no es capaz de detectar la categoria cero que representa la mentira. Claramente me indica que el modelo esta sobreajustando el resultado.\n",
    "Esto se explica facilmente debido al desbalance de clases que se presentan en los datos, ademas es posible probar mas hiperparametros y tratar de mejorar el score de la metrica y tratar los falsos positivos. </br>\n",
    "\n",
    "El recall da cuenta sobre cuantos valores positivos son correctamente clasificados, eb este caso el mejor recall es para la prediccion de 1 (verdad), mientras que para 0 el recall es muy bajo. </br>\n",
    "\n",
    "La precision me explica cuanto porcentaje de valores que se han clasificado como positivos son realmente positivos, en este caso para el valor de 1 la precision toma un valor de 0.91 o un 91%. </br>\n",
    "\n",
    "El F1-score me da un buen balance entre la precision y el recall, manteniendome lejos de los falsos positivos y falsos negativos, si buen para la clasificacion de 1 es 0.95, es evidente que para 0 el f1 = 0, es decir todos son falsos positivos. "
   ]
  },
  {
   "cell_type": "markdown",
   "metadata": {},
   "source": [
    "Finalmente realizamos las predicciones para el set de validacion. "
   ]
  },
  {
   "cell_type": "code",
   "execution_count": 497,
   "metadata": {},
   "outputs": [],
   "source": [
    "prediction_f2 = []\n",
    "for index, row in validation_tokenized.iterrows():  \n",
    "    text = row['text']\n",
    "\n",
    "    # Tokeniza y codifica el texto\n",
    "    inputs = tokenizer.encode(text, return_tensors=\"pt\").to(device)\n",
    "\n",
    "    # Realiza la inferencia en el modelo\n",
    "    logits = model(inputs).logits\n",
    "    predictions = torch.max(logits, 1).indices\n",
    "    prediction_f2.append([text, predictions.tolist()[0]])\n",
    "if len(prediction_f2) > 0:\n",
    "    result2 = pd.DataFrame(prediction_f2).rename(columns={0:'text',1:'label_predicted'})"
   ]
  },
  {
   "cell_type": "code",
   "execution_count": 508,
   "metadata": {},
   "outputs": [
    {
     "data": {
      "text/html": [
       "<div>\n",
       "<style scoped>\n",
       "    .dataframe tbody tr th:only-of-type {\n",
       "        vertical-align: middle;\n",
       "    }\n",
       "\n",
       "    .dataframe tbody tr th {\n",
       "        vertical-align: top;\n",
       "    }\n",
       "\n",
       "    .dataframe thead th {\n",
       "        text-align: right;\n",
       "    }\n",
       "</style>\n",
       "<table border=\"1\" class=\"dataframe\">\n",
       "  <thead>\n",
       "    <tr style=\"text-align: right;\">\n",
       "      <th></th>\n",
       "      <th>text</th>\n",
       "      <th>label_predicted</th>\n",
       "    </tr>\n",
       "  </thead>\n",
       "  <tbody>\n",
       "    <tr>\n",
       "      <th>0</th>\n",
       "      <td>good afternoon friend south send message open ...</td>\n",
       "      <td>1</td>\n",
       "    </tr>\n",
       "    <tr>\n",
       "      <th>1</th>\n",
       "      <td>course thank future kaissereich effect neighbo...</td>\n",
       "      <td>1</td>\n",
       "    </tr>\n",
       "    <tr>\n",
       "      <th>2</th>\n",
       "      <td>french turn thorn greatly appreciate aid</td>\n",
       "      <td>1</td>\n",
       "    </tr>\n",
       "    <tr>\n",
       "      <th>3</th>\n",
       "      <td>greeting new italy</td>\n",
       "      <td>1</td>\n",
       "    </tr>\n",
       "    <tr>\n",
       "      <th>4</th>\n",
       "      <td>like reiterate italy likely opportunistic stan...</td>\n",
       "      <td>1</td>\n",
       "    </tr>\n",
       "    <tr>\n",
       "      <th>...</th>\n",
       "      <td>...</td>\n",
       "      <td>...</td>\n",
       "    </tr>\n",
       "    <tr>\n",
       "      <th>1411</th>\n",
       "      <td>austria importand italy england basically game...</td>\n",
       "      <td>1</td>\n",
       "    </tr>\n",
       "    <tr>\n",
       "      <th>1412</th>\n",
       "      <td>hello turkey</td>\n",
       "      <td>1</td>\n",
       "    </tr>\n",
       "    <tr>\n",
       "      <th>1413</th>\n",
       "      <td>hello</td>\n",
       "      <td>1</td>\n",
       "    </tr>\n",
       "    <tr>\n",
       "      <th>1414</th>\n",
       "      <td>helloo turkey</td>\n",
       "      <td>1</td>\n",
       "    </tr>\n",
       "    <tr>\n",
       "      <th>1415</th>\n",
       "      <td>understand message tone move like coordinate a...</td>\n",
       "      <td>1</td>\n",
       "    </tr>\n",
       "  </tbody>\n",
       "</table>\n",
       "<p>1416 rows × 2 columns</p>\n",
       "</div>"
      ],
      "text/plain": [
       "                                                   text  label_predicted\n",
       "0     good afternoon friend south send message open ...                1\n",
       "1     course thank future kaissereich effect neighbo...                1\n",
       "2              french turn thorn greatly appreciate aid                1\n",
       "3                                    greeting new italy                1\n",
       "4     like reiterate italy likely opportunistic stan...                1\n",
       "...                                                 ...              ...\n",
       "1411  austria importand italy england basically game...                1\n",
       "1412                                       hello turkey                1\n",
       "1413                                              hello                1\n",
       "1414                                      helloo turkey                1\n",
       "1415  understand message tone move like coordinate a...                1\n",
       "\n",
       "[1416 rows x 2 columns]"
      ]
     },
     "execution_count": 508,
     "metadata": {},
     "output_type": "execute_result"
    }
   ],
   "source": [
    "result2"
   ]
  },
  {
   "cell_type": "markdown",
   "metadata": {},
   "source": [
    "Para este caso las predicciones del label son todas 1, debido al sobreajuste que se presenta en los datos"
   ]
  },
  {
   "cell_type": "markdown",
   "metadata": {},
   "source": [
    "# Modelo 2 - Dataset balanceado\n",
    "\n",
    "Para tratar el desbalance que existe en los datos, aplicaremos una tecnica de resampleo sencilla para mantener la cantidad de datos de la clase minoritaria, disminuyendo asi para la clase 0 y 1 en 591 datos respectivamente. \n",
    "Despues de esto se entrenara el modelo nuevamente y obtendremos las metricas de evaluacion del modelo de hugging face"
   ]
  },
  {
   "cell_type": "code",
   "execution_count": 1123,
   "metadata": {},
   "outputs": [],
   "source": [
    "################################################### DATA #################################################\n",
    "\n",
    "# Aplicar la función a cada fila del DataFrame\n",
    "input_ids_train, attention_mask_train = tokenize_and_pad(train_messages2, 'text2', tokenizer)\n",
    "train_tokenized = train_messages2.copy()\n",
    "train_tokenized['input_ids'] = list(input_ids_train)\n",
    "train_tokenized['attention_mask'] = list(attention_mask_train)\n",
    "\n",
    "# Aplicar la función a cada fila del DataFrame\n",
    "input_ids_test, attention_mask_test = tokenize_and_pad(test_messages2, 'text2', tokenizer)\n",
    "test_tokenized = test_messages2.copy()\n",
    "test_tokenized['input_ids'] = list(input_ids_test)\n",
    "test_tokenized['attention_mask'] = list(attention_mask_test)\n",
    "\n",
    "\n",
    "# Aplicar la función a cada fila del DataFrame\n",
    "input_ids_validation, attention_mask_validation = tokenize_and_pad(validation_messages2, 'text2', tokenizer)\n",
    "validation_tokenized = validation_messages2.copy()\n",
    "validation_tokenized['input_ids'] = list(input_ids_validation)\n",
    "validation_tokenized['attention_mask'] = list(attention_mask_validation)\n",
    "\n",
    "# Renombramos la columna text\n",
    "train_tokenized = train_tokenized.drop(columns = {'text'}) \n",
    "train_tokenized = train_tokenized.rename(columns = {'text2':'text'}) \n",
    "train_tokenized = train_tokenized[['label','text','input_ids','attention_mask']]\n",
    "\n",
    "test_tokenized = test_tokenized.drop(columns = {'text'}) \n",
    "test_tokenized = test_tokenized.rename(columns = {'text2':'text'}) \n",
    "test_tokenized = test_tokenized[['label','text','input_ids','attention_mask']]\n",
    "\n",
    "validation_tokenized = validation_tokenized.drop(columns = {'text'}) \n",
    "validation_tokenized = validation_tokenized.rename(columns = {'text2':'text'}) \n",
    "validation_tokenized = validation_tokenized[['label','text','input_ids','attention_mask']] "
   ]
  },
  {
   "cell_type": "code",
   "execution_count": 1125,
   "metadata": {},
   "outputs": [
    {
     "name": "stdout",
     "output_type": "stream",
     "text": [
      "trainable params: 628,994 || all params: 67,584,004 || trainable%: 0.9306847223789819\n"
     ]
    },
    {
     "name": "stderr",
     "output_type": "stream",
     "text": [
      "  0%|          | 0/1970 [14:06<?, ?it/s]\n",
      " 20%|██        | 394/1970 [00:41<02:09, 12.19it/s]Trainer is attempting to log a value of \"{'accuracy': 0.7121488507843853}\" of type <class 'dict'> for key \"eval/accuracy\" as a scalar. This invocation of Tensorboard's writer.add_scalar() is incorrect so we dropped this attribute.\n",
      "                                                  \n",
      " 20%|██        | 394/1970 [00:59<02:09, 12.19it/s]Checkpoint destination directory distilbert-base-uncased-lora-text-classification\\checkpoint-394 already exists and is non-empty.Saving will proceed but saved results may be invalid.\n",
      " 20%|██        | 395/1970 [00:59<1:52:14,  4.28s/it]"
     ]
    },
    {
     "name": "stdout",
     "output_type": "stream",
     "text": [
      "{'eval_loss': 0.6163405179977417, 'eval_accuracy': {'accuracy': 0.7121488507843853}, 'eval_runtime': 27.8404, 'eval_samples_per_second': 98.454, 'eval_steps_per_second': 32.83, 'epoch': 1.0}\n"
     ]
    },
    {
     "name": "stderr",
     "output_type": "stream",
     "text": [
      " 25%|██▌       | 501/1970 [01:07<01:56, 12.57it/s]  "
     ]
    },
    {
     "name": "stdout",
     "output_type": "stream",
     "text": [
      "{'loss': 0.7293, 'learning_rate': 0.0007461928934010153, 'epoch': 1.27}\n"
     ]
    },
    {
     "name": "stderr",
     "output_type": "stream",
     "text": [
      " 40%|████      | 788/1970 [01:41<01:29, 13.23it/s]Trainer is attempting to log a value of \"{'accuracy': 0.35388544326888}\" of type <class 'dict'> for key \"eval/accuracy\" as a scalar. This invocation of Tensorboard's writer.add_scalar() is incorrect so we dropped this attribute.\n",
      "                                                  \n",
      " 40%|████      | 788/1970 [01:56<01:29, 13.23it/s]Checkpoint destination directory distilbert-base-uncased-lora-text-classification\\checkpoint-788 already exists and is non-empty.Saving will proceed but saved results may be invalid.\n",
      " 40%|████      | 789/1970 [01:57<1:23:12,  4.23s/it]"
     ]
    },
    {
     "name": "stdout",
     "output_type": "stream",
     "text": [
      "{'eval_loss': 0.9187417030334473, 'eval_accuracy': {'accuracy': 0.35388544326888}, 'eval_runtime': 27.5411, 'eval_samples_per_second': 99.524, 'eval_steps_per_second': 33.187, 'epoch': 2.0}\n"
     ]
    },
    {
     "name": "stderr",
     "output_type": "stream",
     "text": [
      " 51%|█████     | 1001/1970 [02:13<01:19, 12.17it/s] "
     ]
    },
    {
     "name": "stdout",
     "output_type": "stream",
     "text": [
      "{'loss': 0.6775, 'learning_rate': 0.0004923857868020305, 'epoch': 2.54}\n"
     ]
    },
    {
     "name": "stderr",
     "output_type": "stream",
     "text": [
      " 60%|██████    | 1182/1970 [02:41<01:00, 12.93it/s]Trainer is attempting to log a value of \"{'accuracy': 0.6202116016052536}\" of type <class 'dict'> for key \"eval/accuracy\" as a scalar. This invocation of Tensorboard's writer.add_scalar() is incorrect so we dropped this attribute.\n",
      "                                                   \n",
      " 60%|██████    | 1182/1970 [02:55<01:00, 12.93it/s]Checkpoint destination directory distilbert-base-uncased-lora-text-classification\\checkpoint-1182 already exists and is non-empty.Saving will proceed but saved results may be invalid.\n"
     ]
    },
    {
     "name": "stdout",
     "output_type": "stream",
     "text": [
      "{'eval_loss': 0.6564392447471619, 'eval_accuracy': {'accuracy': 0.6202116016052536}, 'eval_runtime': 27.4101, 'eval_samples_per_second': 100.0, 'eval_steps_per_second': 33.345, 'epoch': 3.0}\n"
     ]
    },
    {
     "name": "stderr",
     "output_type": "stream",
     "text": [
      " 76%|███████▌  | 1501/1970 [03:20<00:38, 12.14it/s]"
     ]
    },
    {
     "name": "stdout",
     "output_type": "stream",
     "text": [
      "{'loss': 0.6195, 'learning_rate': 0.0002385786802030457, 'epoch': 3.81}\n"
     ]
    },
    {
     "name": "stderr",
     "output_type": "stream",
     "text": [
      " 80%|████████  | 1576/1970 [03:41<00:31, 12.42it/s]Trainer is attempting to log a value of \"{'accuracy': 0.6037942356804086}\" of type <class 'dict'> for key \"eval/accuracy\" as a scalar. This invocation of Tensorboard's writer.add_scalar() is incorrect so we dropped this attribute.\n",
      "                                                   \n",
      " 80%|████████  | 1576/1970 [03:53<00:31, 12.42it/s]Checkpoint destination directory distilbert-base-uncased-lora-text-classification\\checkpoint-1576 already exists and is non-empty.Saving will proceed but saved results may be invalid.\n",
      " 80%|████████  | 1577/1970 [03:53<27:24,  4.19s/it]"
     ]
    },
    {
     "name": "stdout",
     "output_type": "stream",
     "text": [
      "{'eval_loss': 0.7804359793663025, 'eval_accuracy': {'accuracy': 0.6037942356804086}, 'eval_runtime': 27.247, 'eval_samples_per_second': 100.598, 'eval_steps_per_second': 33.545, 'epoch': 4.0}\n"
     ]
    },
    {
     "name": "stderr",
     "output_type": "stream",
     "text": [
      "100%|██████████| 1970/1970 [04:41<00:00, 12.20it/s]Trainer is attempting to log a value of \"{'accuracy': 0.5640277271068953}\" of type <class 'dict'> for key \"eval/accuracy\" as a scalar. This invocation of Tensorboard's writer.add_scalar() is incorrect so we dropped this attribute.\n",
      "                                                   \n",
      "100%|██████████| 1970/1970 [04:58<00:00, 12.20it/s]Checkpoint destination directory distilbert-base-uncased-lora-text-classification\\checkpoint-1970 already exists and is non-empty.Saving will proceed but saved results may be invalid.\n",
      "100%|██████████| 1970/1970 [04:58<00:00,  6.59it/s]\n"
     ]
    },
    {
     "name": "stdout",
     "output_type": "stream",
     "text": [
      "{'eval_loss': 0.9033320546150208, 'eval_accuracy': {'accuracy': 0.5640277271068953}, 'eval_runtime': 32.0962, 'eval_samples_per_second': 85.4, 'eval_steps_per_second': 28.477, 'epoch': 5.0}\n",
      "{'train_runtime': 298.8125, 'train_samples_per_second': 19.778, 'train_steps_per_second': 6.593, 'train_loss': 0.6509274400430283, 'epoch': 5.0}\n",
      "Trained model predictions:\n",
      "--------------------------\n",
      "True\n",
      "whet appetite italy suggestion - True\n",
      "Accuracy: 0.71\n",
      "Confusion Matrix:\n",
      "[[ 106  134]\n",
      " [ 655 1846]]\n"
     ]
    },
    {
     "data": {
      "image/png": "[encoded data removed]",
      "text/plain": [
       "<Figure size 640x480 with 2 Axes>"
      ]
     },
     "metadata": {},
     "output_type": "display_data"
    },
    {
     "name": "stdout",
     "output_type": "stream",
     "text": [
      "Reporte de Clasificación:\n",
      "              precision    recall  f1-score   support\n",
      "\n",
      "           0       0.14      0.44      0.21       240\n",
      "           1       0.93      0.74      0.82      2501\n",
      "\n",
      "    accuracy                           0.71      2741\n",
      "   macro avg       0.54      0.59      0.52      2741\n",
      "weighted avg       0.86      0.71      0.77      2741\n",
      "\n"
     ]
    }
   ],
   "source": [
    "from sklearn.utils import resample\n",
    "df_class_0 = train_tokenized[train_tokenized['label'] == 0]\n",
    "df_class_1 = train_tokenized[train_tokenized['label'] == 1]\n",
    "\n",
    "# Submuestrear la clase mayoritaria (clase 1) a 591 instancias\n",
    "df_class_1_resampled = resample(df_class_1, replace=False, n_samples=591, random_state=42)\n",
    "\n",
    "# Combinar las clases equilibradas\n",
    "df_balanced = pd.concat([df_class_0, df_class_1_resampled]).reset_index(drop = True) \n",
    "\n",
    "\n",
    "# Definir las características\n",
    "features = Features({\n",
    "    'label': ClassLabel(names=[0, 1], id=None),\n",
    "    'text': Value(dtype='string', id=None),\n",
    "    'input_ids': Sequence(feature=Value(dtype='int64', id=None)),\n",
    "    'attention_mask': Sequence(feature=Value(dtype='int64', id=None)) \n",
    "})  \n",
    "\n",
    "\n",
    "df_balanced_.reset_index(drop=True, inplace=True)\n",
    "\n",
    "# Crear el conjunto de datos\n",
    "train_dataset = Dataset.from_pandas(df_balanced, features=features)\n",
    "test_dataset = Dataset.from_pandas(test_tokenized, features=features) \n",
    "validation_dataset = Dataset.from_pandas(validation_tokenized, features=features)\n",
    "\n",
    "\n",
    "dataset_dict = DatasetDict({\n",
    "    \"train\": train_dataset,\n",
    "    \"test\": test_dataset,\n",
    "    \"validation\": validation_dataset,\n",
    "})\n",
    "\n",
    "data_collator = DataCollatorWithPadding(tokenizer=tokenizer)\n",
    "\n",
    "# import accuracy evaluation metric\n",
    "accuracy = evaluate.load(\"accuracy\")\n",
    "\n",
    "# se define una funcion de evaluacion que sera utilizada en el entranmiento\n",
    "def compute_metrics(p):\n",
    "    predictions, labels = p\n",
    "    predictions = np.argmax(predictions, axis=1)\n",
    "\n",
    "    return {\"accuracy\": accuracy.compute(predictions=predictions, references=labels)}\n",
    "\n",
    "peft_config = LoraConfig(task_type=\"SEQ_CLS\", # sequence classification\n",
    "                        r=4, # intrinsic rank of trainable weight matrix\n",
    "                        lora_alpha=32, # used for scalling the LoRA reparametrization .\n",
    "                        lora_dropout=0.01, # probablity of dropout\n",
    "                        target_modules = ['q_lin']) # we apply LoRA to query layer only\n",
    "\n",
    "model = get_peft_model(model, peft_config)\n",
    "model.print_trainable_parameters()\n",
    "\n",
    "# hyperparametros\n",
    "lr = 0.001# size of optimization step \n",
    "batch_size = 3 # number of examples processed per optimziation step\n",
    "num_epochs = 5 # number of times model runs through training data\n",
    "\n",
    "# define training arguments\n",
    "training_args = TrainingArguments(\n",
    "    output_dir= modelo + \"-lora-text-classification\",\n",
    "    learning_rate=lr,\n",
    "    per_device_train_batch_size=batch_size, \n",
    "    per_device_eval_batch_size=batch_size,\n",
    "    num_train_epochs=num_epochs,\n",
    "    weight_decay=0.01,\n",
    "    evaluation_strategy=\"epoch\",\n",
    "    save_strategy=\"epoch\",\n",
    "    load_best_model_at_end=True,\n",
    ")\n",
    "\n",
    "\n",
    "# creater trainer object\n",
    "trainer2 = Trainer(\n",
    "    model=model, # our peft model\n",
    "    args=training_args, # hyperparameters\n",
    "    train_dataset= dataset_dict['train'], # training data \n",
    "    eval_dataset=dataset_dict['test'], # test data  \n",
    "    tokenizer=tokenizer, # define tokenizer\n",
    "    data_collator=data_collator, # this will dynamically pad examples in each batch to be equal length\n",
    "    compute_metrics=compute_metrics, # evaluates model using compute_metrics() function from before\n",
    ")\n",
    "\n",
    "# train model\n",
    "trainer2.train()\n",
    "\n",
    "device = \"cuda\" if torch.cuda.is_available() else \"cpu\"\n",
    "model.to(device)\n",
    "print(\"Trained model predictions:\")\n",
    "print(\"--------------------------\")\n",
    "for text in train_tokenized[['text']].iloc[1]:  \n",
    "    # Tokeniza y codifica el texto\n",
    "    inputs = tokenizer.encode(text, return_tensors=\"pt\").to(device)\n",
    "\n",
    "    # Realiza la inferencia en el modelo\n",
    "    logits = model(inputs).logits\n",
    "    predictions = torch.max(logits, 1).indices\n",
    "    print(id2label[predictions.tolist()[0]]) \n",
    "\n",
    "    print(text + \" - \" + id2label[predictions.tolist()[0]])\n",
    "\n",
    "\n",
    "# realizamos las predicciones para los datos de testeo para calcular las metricas y ver la calidad del modelo con los datos utilizados\n",
    "prediction_f = []\n",
    "for index, row in test_tokenized.iterrows(): \n",
    "    text = row['text']\n",
    "\n",
    "    # Tokeniza y codifica el texto\n",
    "    inputs = tokenizer.encode(text, return_tensors=\"pt\").to(device)\n",
    "\n",
    "    # Realiza la inferencia en el modelo\n",
    "    logits = model(inputs).logits\n",
    "    predictions = torch.max(logits, 1).indices\n",
    "    prediction_f.append([text, predictions.tolist()[0]])\n",
    "if len(prediction_f) > 0:\n",
    "    result = pd.DataFrame(prediction_f).rename(columns={0:'text',1:'label_predicted'})\n",
    "\n",
    "\n",
    "from sklearn.metrics import accuracy_score, confusion_matrix\n",
    "\n",
    "\n",
    "accuracy = accuracy_score(test_tokenized['label'], result['label_predicted'])\n",
    "print(f'Accuracy: {accuracy:.2f}')\n",
    "\n",
    "# Calcula la matriz de confusión\n",
    "conf_matrix = confusion_matrix(test_tokenized['label'], result['label_predicted'])\n",
    "print('Confusion Matrix:')\n",
    "print(conf_matrix)\n",
    "\n",
    "import seaborn as sns\n",
    "import matplotlib.pyplot as plt\n",
    "from sklearn.metrics import confusion_matrix, classification_report\n",
    "\n",
    "# Calcula la matriz de confusión\n",
    "conf_matrix = confusion_matrix(test_tokenized['label'], result['label_predicted'])\n",
    "\n",
    "# Calcula el reporte de clasificación\n",
    "class_report = classification_report(test_tokenized['label'], result['label_predicted'])\n",
    "\n",
    "# Crea un mapa de calor de la matriz de confusión\n",
    "sns.heatmap(conf_matrix, annot=True, fmt='d', cmap='Blues', annot_kws={\"size\": 16})\n",
    "plt.xlabel('Etiquetas Predichas')\n",
    "plt.ylabel('Etiquetas Reales')\n",
    "plt.title('Matriz de Confusión')\n",
    "plt.show()\n",
    "\n",
    "# Imprime el reporte de clasificación\n",
    "print(\"Reporte de Clasificación:\")\n",
    "print(class_report)"
   ]
  },
  {
   "cell_type": "markdown",
   "metadata": {},
   "source": [
    "# Conclusion 2\n",
    "\n",
    "Se puede observar una disminucion en la precision en el modelo, sin embargo la matrix de confusion evidencia un gran porcentaje en falsos positivos y falsos negativos, para la clase minoritaria respecto a su mimsma proporcion de clases, la etiqueta de 0 clasifica la mayor cantidad como falsos positivos. En este caso se modifico el sobreajuste en los datos, pero sigue sin ser un buen modelo ya que no identifica correctamente las mentiras. \n",
    "\n",
    "El recall da cuenta sobre cuantos valores positivos son correctamente clasificados, en este caso el recall  para la prediccion de 1 (verdad) =  0.74, mientras que para 0 el recall es = 0.44. </br>\n",
    "\n",
    "La precision me explica cuanto porcentaje de valores que se han clasificado como positivos son realmente positivos, en este caso para el valor de 1 la precision toma un valor de 0.93 o un 93% y para 0 toma el valor de 0.14, en este caso se concluye que el modelo tiene problemas para distinguir las mentiras de las verdades. </br>\n",
    "\n",
    "El f1 score evidencia que para la clase cero falla casi en todo el tiempo (f1 = 0.21), mientras que para la clase 1 (f1 = 0.82) el valor es mayor. El f1 score alcanza su maximo cuando la precision y la exhaustividad son perfectas. Esta metrica es util en situaciones donde clasificar correctamente las instancias positivas es tan importante como minimizar los falsos positivos y los falsos negativos."
   ]
  },
  {
   "cell_type": "markdown",
   "metadata": {},
   "source": [
    "Finalmente, se predicen el label para los datos de validacion con el nuevo modelo entrenado con el sampleo de clases."
   ]
  },
  {
   "cell_type": "code",
   "execution_count": 518,
   "metadata": {},
   "outputs": [],
   "source": [
    "prediction_f2 = []\n",
    "for index, row in validation_tokenized.iterrows():  \n",
    "    text = row['text']\n",
    "\n",
    "    # Tokeniza y codifica el texto\n",
    "    inputs = tokenizer.encode(text, return_tensors=\"pt\").to(device)\n",
    "\n",
    "    # Realiza la inferencia en el modelo\n",
    "    logits = model(inputs).logits\n",
    "    predictions = torch.max(logits, 1).indices\n",
    "    prediction_f2.append([text, predictions.tolist()[0]])\n",
    "if len(prediction_f2) > 0:\n",
    "    result2 = pd.DataFrame(prediction_f2).rename(columns={0:'text',1:'label_predicted'})"
   ]
  },
  {
   "cell_type": "code",
   "execution_count": 519,
   "metadata": {},
   "outputs": [
    {
     "data": {
      "text/html": [
       "<div>\n",
       "<style scoped>\n",
       "    .dataframe tbody tr th:only-of-type {\n",
       "        vertical-align: middle;\n",
       "    }\n",
       "\n",
       "    .dataframe tbody tr th {\n",
       "        vertical-align: top;\n",
       "    }\n",
       "\n",
       "    .dataframe thead th {\n",
       "        text-align: right;\n",
       "    }\n",
       "</style>\n",
       "<table border=\"1\" class=\"dataframe\">\n",
       "  <thead>\n",
       "    <tr style=\"text-align: right;\">\n",
       "      <th></th>\n",
       "      <th>text</th>\n",
       "      <th>label_predicted</th>\n",
       "    </tr>\n",
       "  </thead>\n",
       "  <tbody>\n",
       "    <tr>\n",
       "      <th>0</th>\n",
       "      <td>good afternoon friend south send message open ...</td>\n",
       "      <td>0</td>\n",
       "    </tr>\n",
       "    <tr>\n",
       "      <th>1</th>\n",
       "      <td>course thank future kaissereich effect neighbo...</td>\n",
       "      <td>0</td>\n",
       "    </tr>\n",
       "    <tr>\n",
       "      <th>2</th>\n",
       "      <td>french turn thorn greatly appreciate aid</td>\n",
       "      <td>1</td>\n",
       "    </tr>\n",
       "    <tr>\n",
       "      <th>3</th>\n",
       "      <td>greeting new italy</td>\n",
       "      <td>1</td>\n",
       "    </tr>\n",
       "    <tr>\n",
       "      <th>4</th>\n",
       "      <td>like reiterate italy likely opportunistic stan...</td>\n",
       "      <td>1</td>\n",
       "    </tr>\n",
       "    <tr>\n",
       "      <th>...</th>\n",
       "      <td>...</td>\n",
       "      <td>...</td>\n",
       "    </tr>\n",
       "    <tr>\n",
       "      <th>1411</th>\n",
       "      <td>austria importand italy england basically game...</td>\n",
       "      <td>1</td>\n",
       "    </tr>\n",
       "    <tr>\n",
       "      <th>1412</th>\n",
       "      <td>hello turkey</td>\n",
       "      <td>1</td>\n",
       "    </tr>\n",
       "    <tr>\n",
       "      <th>1413</th>\n",
       "      <td>hello</td>\n",
       "      <td>1</td>\n",
       "    </tr>\n",
       "    <tr>\n",
       "      <th>1414</th>\n",
       "      <td>helloo turkey</td>\n",
       "      <td>0</td>\n",
       "    </tr>\n",
       "    <tr>\n",
       "      <th>1415</th>\n",
       "      <td>understand message tone move like coordinate a...</td>\n",
       "      <td>1</td>\n",
       "    </tr>\n",
       "  </tbody>\n",
       "</table>\n",
       "<p>1416 rows × 2 columns</p>\n",
       "</div>"
      ],
      "text/plain": [
       "                                                   text  label_predicted\n",
       "0     good afternoon friend south send message open ...                0\n",
       "1     course thank future kaissereich effect neighbo...                0\n",
       "2              french turn thorn greatly appreciate aid                1\n",
       "3                                    greeting new italy                1\n",
       "4     like reiterate italy likely opportunistic stan...                1\n",
       "...                                                 ...              ...\n",
       "1411  austria importand italy england basically game...                1\n",
       "1412                                       hello turkey                1\n",
       "1413                                              hello                1\n",
       "1414                                      helloo turkey                0\n",
       "1415  understand message tone move like coordinate a...                1\n",
       "\n",
       "[1416 rows x 2 columns]"
      ]
     },
     "execution_count": 519,
     "metadata": {},
     "output_type": "execute_result"
    }
   ],
   "source": [
    "result2 "
   ]
  },
  {
   "cell_type": "markdown",
   "metadata": {},
   "source": [
    "# Modelo 3 - game_Score \n",
    "\n",
    "En este caso, se utilizara la nueva columna de game_score y ver el efecto que tiene en el entrenamiento del modelo."
   ]
  },
  {
   "cell_type": "code",
   "execution_count": 1107,
   "metadata": {},
   "outputs": [
    {
     "name": "stdout",
     "output_type": "stream",
     "text": [
      "trainable params: 628,994 || all params: 67,584,004 || trainable%: 0.9306847223789819\n"
     ]
    },
    {
     "name": "stderr",
     "output_type": "stream",
     "text": [
      "  0%|          | 0/1970 [08:01<?, ?it/s]\n",
      "  0%|          | 0/1970 [04:31<?, ?it/s]\n",
      " 20%|██        | 394/1970 [00:50<02:11, 11.98it/s]Trainer is attempting to log a value of \"{'accuracy': 0.575337468077344}\" of type <class 'dict'> for key \"eval/accuracy\" as a scalar. This invocation of Tensorboard's writer.add_scalar() is incorrect so we dropped this attribute.\n",
      "\n",
      " 20%|██        | 394/1970 [00:59<02:11, 11.98it/s]Checkpoint destination directory distilbert-base-uncased-lora-text-classification\\checkpoint-394 already exists and is non-empty.Saving will proceed but saved results may be invalid.\n"
     ]
    },
    {
     "name": "stdout",
     "output_type": "stream",
     "text": [
      "{'eval_loss': 0.6902342438697815, 'eval_accuracy': {'accuracy': 0.575337468077344}, 'eval_runtime': 26.9749, 'eval_samples_per_second': 101.613, 'eval_steps_per_second': 33.883, 'epoch': 1.0}\n"
     ]
    },
    {
     "name": "stderr",
     "output_type": "stream",
     "text": [
      " 25%|██▌       | 501/1970 [01:08<02:17, 10.69it/s]  "
     ]
    },
    {
     "name": "stdout",
     "output_type": "stream",
     "text": [
      "{'loss': 0.7048, 'learning_rate': 0.0007461928934010153, 'epoch': 1.27}\n"
     ]
    },
    {
     "name": "stderr",
     "output_type": "stream",
     "text": [
      " 40%|████      | 788/1970 [01:50<01:32, 12.78it/s]Trainer is attempting to log a value of \"{'accuracy': 0.3009850419554907}\" of type <class 'dict'> for key \"eval/accuracy\" as a scalar. This invocation of Tensorboard's writer.add_scalar() is incorrect so we dropped this attribute.\n",
      "                                                  \n",
      " 40%|████      | 788/1970 [02:00<01:32, 12.78it/s]Checkpoint destination directory distilbert-base-uncased-lora-text-classification\\checkpoint-788 already exists and is non-empty.Saving will proceed but saved results may be invalid.\n",
      " 40%|████      | 789/1970 [02:00<1:22:14,  4.18s/it]"
     ]
    },
    {
     "name": "stdout",
     "output_type": "stream",
     "text": [
      "{'eval_loss': 0.9290985465049744, 'eval_accuracy': {'accuracy': 0.3009850419554907}, 'eval_runtime': 27.2124, 'eval_samples_per_second': 100.726, 'eval_steps_per_second': 33.588, 'epoch': 2.0}\n"
     ]
    },
    {
     "name": "stderr",
     "output_type": "stream",
     "text": [
      " 51%|█████     | 1001/1970 [02:18<01:26, 11.19it/s] "
     ]
    },
    {
     "name": "stdout",
     "output_type": "stream",
     "text": [
      "{'loss': 0.6984, 'learning_rate': 0.0004923857868020305, 'epoch': 2.54}\n"
     ]
    },
    {
     "name": "stderr",
     "output_type": "stream",
     "text": [
      " 60%|██████    | 1182/1970 [02:50<01:09, 11.30it/s]Trainer is attempting to log a value of \"{'accuracy': 0.5107624954396206}\" of type <class 'dict'> for key \"eval/accuracy\" as a scalar. This invocation of Tensorboard's writer.add_scalar() is incorrect so we dropped this attribute.\n",
      "                                                   \n",
      " 60%|██████    | 1182/1970 [03:12<01:09, 11.30it/s]Checkpoint destination directory distilbert-base-uncased-lora-text-classification\\checkpoint-1182 already exists and is non-empty.Saving will proceed but saved results may be invalid.\n"
     ]
    },
    {
     "name": "stdout",
     "output_type": "stream",
     "text": [
      "{'eval_loss': 0.7510913014411926, 'eval_accuracy': {'accuracy': 0.5107624954396206}, 'eval_runtime': 38.0, 'eval_samples_per_second': 72.132, 'eval_steps_per_second': 24.053, 'epoch': 3.0}\n"
     ]
    },
    {
     "name": "stderr",
     "output_type": "stream",
     "text": [
      " 76%|███████▌  | 1501/1970 [03:47<00:44, 10.61it/s]  "
     ]
    },
    {
     "name": "stdout",
     "output_type": "stream",
     "text": [
      "{'loss': 0.6453, 'learning_rate': 0.0002385786802030457, 'epoch': 3.81}\n"
     ]
    },
    {
     "name": "stderr",
     "output_type": "stream",
     "text": [
      " 80%|████████  | 1576/1970 [04:10<00:37, 10.64it/s]Trainer is attempting to log a value of \"{'accuracy': 0.6030645749726378}\" of type <class 'dict'> for key \"eval/accuracy\" as a scalar. This invocation of Tensorboard's writer.add_scalar() is incorrect so we dropped this attribute.\n",
      "                                                   \n",
      " 80%|████████  | 1576/1970 [04:26<00:37, 10.64it/s]Checkpoint destination directory distilbert-base-uncased-lora-text-classification\\checkpoint-1576 already exists and is non-empty.Saving will proceed but saved results may be invalid.\n"
     ]
    },
    {
     "name": "stdout",
     "output_type": "stream",
     "text": [
      "{'eval_loss': 0.6941007971763611, 'eval_accuracy': {'accuracy': 0.6030645749726378}, 'eval_runtime': 32.7714, 'eval_samples_per_second': 83.64, 'eval_steps_per_second': 27.89, 'epoch': 4.0}\n"
     ]
    },
    {
     "name": "stderr",
     "output_type": "stream",
     "text": [
      "100%|██████████| 1970/1970 [05:10<00:00, 12.65it/s]Trainer is attempting to log a value of \"{'accuracy': 0.5468807004742795}\" of type <class 'dict'> for key \"eval/accuracy\" as a scalar. This invocation of Tensorboard's writer.add_scalar() is incorrect so we dropped this attribute.\n",
      "                                                   \n",
      "100%|██████████| 1970/1970 [05:26<00:00, 12.65it/s]Checkpoint destination directory distilbert-base-uncased-lora-text-classification\\checkpoint-1970 already exists and is non-empty.Saving will proceed but saved results may be invalid.\n",
      "100%|██████████| 1970/1970 [05:26<00:00,  6.04it/s]\n"
     ]
    },
    {
     "name": "stdout",
     "output_type": "stream",
     "text": [
      "{'eval_loss': 0.817152202129364, 'eval_accuracy': {'accuracy': 0.5468807004742795}, 'eval_runtime': 26.4502, 'eval_samples_per_second': 103.629, 'eval_steps_per_second': 34.555, 'epoch': 5.0}\n",
      "{'train_runtime': 326.3191, 'train_samples_per_second': 18.111, 'train_steps_per_second': 6.037, 'train_loss': 0.6657171413983185, 'epoch': 5.0}\n",
      "Trained model predictions:\n",
      "--------------------------\n",
      "True\n",
      "whet appetite italy suggestion - True\n",
      "Accuracy: 0.58\n",
      "Confusion Matrix:\n",
      "[[ 154   86]\n",
      " [1078 1423]]\n"
     ]
    },
    {
     "data": {
      "image/png": "[encoded data removed]",
      "text/plain": [
       "<Figure size 640x480 with 2 Axes>"
      ]
     },
     "metadata": {},
     "output_type": "display_data"
    },
    {
     "name": "stdout",
     "output_type": "stream",
     "text": [
      "Reporte de Clasificación:\n",
      "              precision    recall  f1-score   support\n",
      "\n",
      "           0       0.12      0.64      0.21       240\n",
      "           1       0.94      0.57      0.71      2501\n",
      "\n",
      "    accuracy                           0.58      2741\n",
      "   macro avg       0.53      0.61      0.46      2741\n",
      "weighted avg       0.87      0.58      0.67      2741\n",
      "\n"
     ]
    }
   ],
   "source": [
    "from sklearn.utils import resample\n",
    "\n",
    "train_tokenized2 = train_tokenized.copy() \n",
    "test_tokenized2 = test_tokenized.copy() \n",
    "validation_tokenized2 = validation_tokenized.copy() \n",
    "\n",
    "train_tokenized2['game_score'] = pd.DataFrame(train_data['game_score'].apply(pd.Series).stack().reset_index(level=1, drop=True).reset_index(drop = True)).rename(columns = {0:'game_score'})\n",
    "test_tokenized2['game_score'] = pd.DataFrame(test_data['game_score'].apply(pd.Series).stack().reset_index(level=1, drop=True).reset_index(drop = True)).rename(columns = {0:'game_score'})\n",
    "validation_tokenized2['game_score'] = pd.DataFrame(validation_data['game_score'].apply(pd.Series).stack().reset_index(level=1, drop=True).reset_index(drop = True)).rename(columns = {0:'game_score'})\n",
    "\n",
    "train_tokenized2['game_score'] =  train_tokenized2['game_score'].astype(int) \n",
    "test_tokenized2['game_score'] =  test_tokenized2['game_score'].astype(int) \n",
    "validation_tokenized2['game_score'] =  validation_tokenized2['game_score'].astype(int) \n",
    "\n",
    "df_class_0 = train_tokenized2[train_tokenized2['label'] == 0] \n",
    "df_class_1 = train_tokenized2[train_tokenized2['label'] == 1]\n",
    "\n",
    "# Submuestrear la clase mayoritaria (clase 1) a 591 instancias\n",
    "df_class_1_resampled = resample(df_class_1, replace=False, n_samples=591, random_state=42) \n",
    "\n",
    "# Combinar las clases equilibradas\n",
    "df_balanced = pd.concat([df_class_0, df_class_1_resampled]).reset_index(drop = True) \n",
    "\n",
    "\n",
    "# Definir las características\n",
    "features = Features({\n",
    "    'label': ClassLabel(names=[0, 1], id=None),\n",
    "    'text': Value(dtype='string', id=None),\n",
    "    'input_ids': Sequence(feature=Value(dtype='int64', id=None)),\n",
    "    'attention_mask': Sequence(feature=Value(dtype='int64', id=None)),\n",
    "    'game_score': Value(dtype='int8', id = None) \n",
    "})  \n",
    "\n",
    "df_balanced.reset_index(drop=True, inplace=True)\n",
    "\n",
    "# Crear el conjunto de datos\n",
    "train_dataset = Dataset.from_pandas(df_balanced, features=features)\n",
    "test_dataset = Dataset.from_pandas(test_tokenized2, features=features) \n",
    "validation_dataset = Dataset.from_pandas(validation_tokenized2, features=features)\n",
    "\n",
    "\n",
    "dataset_dict = DatasetDict({\n",
    "    \"train\": train_dataset,\n",
    "    \"test\": test_dataset,\n",
    "    \"validation\": validation_dataset,\n",
    "})\n",
    "\n",
    "data_collator = DataCollatorWithPadding(tokenizer=tokenizer)\n",
    "\n",
    "# import accuracy evaluation metric\n",
    "accuracy = evaluate.load(\"accuracy\")\n",
    "\n",
    "# se define una funcion de evaluacion que sera utilizada en el entranmiento\n",
    "def compute_metrics(p):\n",
    "    predictions, labels = p\n",
    "    predictions = np.argmax(predictions, axis=1)\n",
    "\n",
    "    return {\"accuracy\": accuracy.compute(predictions=predictions, references=labels)}\n",
    "\n",
    "peft_config = LoraConfig(task_type=\"SEQ_CLS\", # sequence classification\n",
    "                        r=4, # intrinsic rank of trainable weight matrix\n",
    "                        lora_alpha=32, # used for scalling the LoRA reparametrization .\n",
    "                        lora_dropout=0.01, # probablity of dropout\n",
    "                        target_modules = ['q_lin']) # we apply LoRA to query layer only\n",
    "\n",
    "model = get_peft_model(model, peft_config)\n",
    "model.print_trainable_parameters()\n",
    "\n",
    "# hyperparametros\n",
    "lr = 0.001# size of optimization step \n",
    "batch_size = 3 # number of examples processed per optimziation step\n",
    "num_epochs = 5 # number of times model runs through training data\n",
    "\n",
    "# define training arguments\n",
    "training_args = TrainingArguments(\n",
    "    output_dir= modelo + \"-lora-text-classification\",\n",
    "    learning_rate=lr,\n",
    "    per_device_train_batch_size=batch_size, \n",
    "    per_device_eval_batch_size=batch_size,\n",
    "    num_train_epochs=num_epochs,\n",
    "    weight_decay=0.01,\n",
    "    evaluation_strategy=\"epoch\",\n",
    "    save_strategy=\"epoch\",\n",
    "    load_best_model_at_end=True,\n",
    ")\n",
    "\n",
    "\n",
    "# creater trainer object\n",
    "trainer2 = Trainer(\n",
    "    model=model, # our peft model\n",
    "    args=training_args, # hyperparameters\n",
    "    train_dataset= dataset_dict['train'], # training data \n",
    "    eval_dataset=dataset_dict['test'], # test data  \n",
    "    tokenizer=tokenizer, # define tokenizer\n",
    "    data_collator=data_collator, # this will dynamically pad examples in each batch to be equal length\n",
    "    compute_metrics=compute_metrics, # evaluates model using compute_metrics() function from before\n",
    ")\n",
    "\n",
    "# train model\n",
    "trainer2.train()\n",
    "\n",
    "device = \"cuda\" if torch.cuda.is_available() else \"cpu\"\n",
    "model.to(device)\n",
    "print(\"Trained model predictions:\")\n",
    "print(\"--------------------------\")\n",
    "for text in train_tokenized2[['text']].iloc[1]:  \n",
    "    # Tokeniza y codifica el texto\n",
    "    inputs = tokenizer.encode(text, return_tensors=\"pt\").to(device)\n",
    "\n",
    "    # Realiza la inferencia en el modelo\n",
    "    logits = model(inputs).logits\n",
    "    predictions = torch.max(logits, 1).indices\n",
    "    print(id2label[predictions.tolist()[0]]) \n",
    "\n",
    "    print(text + \" - \" + id2label[predictions.tolist()[0]])\n",
    "\n",
    "\n",
    "# realizamos las predicciones para los datos de testeo para calcular las metricas y ver la calidad del modelo con los datos utilizados\n",
    "prediction_f = []\n",
    "for index, row in test_tokenized2.iterrows(): \n",
    "    text = row['text']\n",
    "\n",
    "    # Tokeniza y codifica el texto\n",
    "    inputs = tokenizer.encode(text, return_tensors=\"pt\").to(device)\n",
    "\n",
    "    # Realiza la inferencia en el modelo\n",
    "    logits = model(inputs).logits\n",
    "    predictions = torch.max(logits, 1).indices\n",
    "    prediction_f.append([text, predictions.tolist()[0]])\n",
    "if len(prediction_f) > 0:\n",
    "    result = pd.DataFrame(prediction_f).rename(columns={0:'text',1:'label_predicted'})\n",
    "\n",
    "\n",
    "from sklearn.metrics import accuracy_score, confusion_matrix\n",
    "\n",
    "\n",
    "accuracy = accuracy_score(test_tokenized['label'], result['label_predicted'])\n",
    "print(f'Accuracy: {accuracy:.2f}')\n",
    "\n",
    "# Calcula la matriz de confusión\n",
    "conf_matrix = confusion_matrix(test_tokenized['label'], result['label_predicted'])\n",
    "print('Confusion Matrix:')\n",
    "print(conf_matrix)\n",
    "\n",
    "import seaborn as sns\n",
    "import matplotlib.pyplot as plt\n",
    "from sklearn.metrics import confusion_matrix, classification_report\n",
    "\n",
    "# Calcula la matriz de confusión\n",
    "conf_matrix = confusion_matrix(test_tokenized['label'], result['label_predicted'])\n",
    "\n",
    "# Calcula el reporte de clasificación\n",
    "class_report = classification_report(test_tokenized['label'], result['label_predicted'])\n",
    "\n",
    "# Crea un mapa de calor de la matriz de confusión\n",
    "sns.heatmap(conf_matrix, annot=True, fmt='d', cmap='Blues', annot_kws={\"size\": 16})\n",
    "plt.xlabel('Etiquetas Predichas')\n",
    "plt.ylabel('Etiquetas Reales')\n",
    "plt.title('Matriz de Confusión')\n",
    "plt.show()\n",
    "\n",
    "# Imprime el reporte de clasificación\n",
    "print(\"Reporte de Clasificación:\")\n",
    "print(class_report)"
   ]
  },
  {
   "cell_type": "markdown",
   "metadata": {},
   "source": [
    "# Conclusion 3\n",
    "\n",
    "Se puede observar un cambio en la precision en el modelo, sin embargo la matrix de confusion evidencia un gran porcentaje en falsos positivos y falsos negativos, para la clase minoritaria respecto a su mimsma proporcion de clases, la etiqueta de 0 clasifica la mayor cantidad como falsos positivos. En este caso se añadio otra variable explicativa game_Score en los datos, pero sigue sin poder identificar correctamente las mentiras y la verdad. \n",
    "\n",
    "El recall da cuenta sobre cuantos valores positivos son correctamente clasificados, en este caso el recall  para la prediccion de 1 (verdad) =  0.75, mientras que para 0 el recall es = 0.44. </br>\n",
    "\n",
    "La precision me explica cuanto porcentaje de valores que se han clasificado como positivos son realmente positivos, en este caso para el valor de 1 la precision toma un valor de 0.94 o un 94% y para 0 toma el valor de 0.12, en este caso se concluye que el modelo tiene problemas para distinguir las mentiras de las verdades. </br>\n",
    "\n",
    "El f1 score evidencia que para la clase cero falla casi en todo el tiempo, mientras que para la clase 1, El f1 score alcanza su maximo cuando la precision y la exhaustividad son perfectas. Esta metrica es util en situaciones donde clasificar correctamente las instancias positivas es tan importante como minimizar los falsos positivos y los falsos negativos."
   ]
  },
  {
   "cell_type": "markdown",
   "metadata": {},
   "source": [
    "# Modelo 4"
   ]
  },
  {
   "cell_type": "code",
   "execution_count": 1118,
   "metadata": {},
   "outputs": [],
   "source": [
    "import pandas as pd\n",
    "import torch\n",
    "from sklearn.preprocessing import MinMaxScaler\n",
    "\n",
    "# Crear el scaler global\n",
    "#global_scaler = MinMaxScaler()\n",
    "\n",
    "def preprocess_data(train_tokenized2, tokenizer,df_speakers_OHE, use_fit_transform=True ):\n",
    "    global global_scaler\n",
    "    \n",
    "    # Obtener los textos y tokenizar\n",
    "    texts1 = train_tokenized2['text'].tolist()\n",
    "    tokenized_inputs = tokenizer(texts1, padding=True, truncation=True, return_tensors=\"pt\", max_length=112)\n",
    "\n",
    "    # Obtener las variables exógenas\n",
    "    exogenous_vars = train_tokenized2[['game_score']].values\n",
    "\n",
    "    # Obtener los embeddings de las variables exógenas\n",
    "    exogenous_vars_tensor = torch.tensor(exogenous_vars, dtype=torch.float32)\n",
    "\n",
    "    # Concatenar los embeddings de las variables exógenas con los embeddings de texto\n",
    "    combined_inputs = torch.cat([tokenized_inputs['input_ids'], exogenous_vars_tensor], dim=1)\n",
    "\n",
    "    # Crear DataFrame\n",
    "    w = pd.DataFrame(combined_inputs).astype(int)\n",
    "\n",
    "    # Escalar los datos entre 0 y 1\n",
    "    h = w.copy()\n",
    "    columnas = w.columns\n",
    "    num_cols_original = h.shape[1]\n",
    "    if (num_cols_original == 113) and (use_fit_transform==True):\n",
    "        # Ajustar el scaler global \n",
    "        w_scaled = pd.DataFrame(h, columns = columnas) # pd.DataFrame(global_scaler.fit_transform(h), columns=columnas )\n",
    "\n",
    "        w_scaled = w_scaled.join(df_speakers_OHE)\n",
    "\n",
    "        # Convertir todas las filas en una lista de listas\n",
    "        secuencia_listas = w_scaled.values.tolist()\n",
    "\n",
    "        # Crear nuevo DataFrame\n",
    "        train_tokenized3 = train_tokenized2.copy()\n",
    "        train_tokenized3['text'] = secuencia_listas\n",
    "        train_tokenized3 = train_tokenized3[['label', 'text']]\n",
    "        train_tokenized3 = train_tokenized3.rename(columns={'text': 'input_ids'})\n",
    "        num_cols_original = w_scaled.shape[1]\n",
    "\n",
    "        return train_tokenized3 \n",
    "    \n",
    "    else:\n",
    "        num_zeros_to_add = 113 - num_cols_original \n",
    "        if num_zeros_to_add > 0:\n",
    "            w2 = np.pad(h, ((0, 0), (0, num_zeros_to_add)), mode='constant', constant_values=0)\n",
    "            w_scaled = pd.DataFrame(w2, columns = pd.RangeIndex(start=0, stop=113, step=1)) #pd.DataFrame(global_scaler.transform(w2), columns=pd.RangeIndex(start=0, stop=113, step=1) )\n",
    "\n",
    "            w_scaled = w_scaled.join(df_speakers_OHE)\n",
    "\n",
    "            # Convertir todas las filas en una lista de listas\n",
    "            secuencia_listas = w_scaled.values.tolist()\n",
    "\n",
    "            # Crear nuevo DataFrame\n",
    "            train_tokenized3 = train_tokenized2.copy()\n",
    "            train_tokenized3['text'] = secuencia_listas\n",
    "            train_tokenized3 = train_tokenized3[['label', 'text']]\n",
    "            train_tokenized3 = train_tokenized3.rename(columns={'text': 'input_ids'})\n",
    "            num_cols_original = w_scaled.shape[1]\n",
    "\n",
    "            return train_tokenized3 \n",
    "        \n",
    "        elif num_zeros_to_add == 0:\n",
    "            w_scaled = pd.DataFrame(h, columns = columnas) #pd.DataFrame(global_scaler.transform(h), columns=columnas )\n",
    "\n",
    "            w_scaled = w_scaled.join(df_speakers_OHE)\n",
    "\n",
    "            # Convertir todas las filas en una lista de listas\n",
    "            secuencia_listas = w_scaled.values.tolist()\n",
    "\n",
    "            # Crear nuevo DataFrame\n",
    "            train_tokenized3 = train_tokenized2.copy()\n",
    "            train_tokenized3['text'] = secuencia_listas\n",
    "            train_tokenized3 = train_tokenized3[['label', 'text']]\n",
    "            train_tokenized3 = train_tokenized3.rename(columns={'text': 'input_ids'})\n",
    "            \n",
    "\n",
    "            return train_tokenized3\n",
    "        else:\n",
    "            w2 = h.iloc[num_zeros_to_add, :113] \n",
    "            w_scaled = pd.DataFrame(w2, columns = pd.RangeIndex(start=0, stop=113, step=1)) #pd.DataFrame(global_scaler.transform(w2), columns=pd.RangeIndex(start=0, stop=113, step=1))\n",
    "\n",
    "            w_scaled = w_scaled.join(df_speakers_OHE)\n",
    "\n",
    "            # Convertir todas las filas en una lista de listas\n",
    "            secuencia_listas = w_scaled.values.tolist()\n",
    "\n",
    "            # Crear nuevo DataFrame\n",
    "            train_tokenized3 = train_tokenized2.copy()\n",
    "            train_tokenized3['text'] = secuencia_listas\n",
    "            train_tokenized3 = train_tokenized3[['label', 'text']]\n",
    "            train_tokenized3 = train_tokenized3.rename(columns={'text': 'input_ids'})\n",
    "      \n",
    "\n",
    "            return train_tokenized3 \n",
    "\n",
    "\n",
    "\n",
    "def onehot_encode_column(df, column_name):\n",
    "    \"\"\"\n",
    "    Realiza one-hot encoding de una columna en un DataFrame.\n",
    "\n",
    "    Parameters:\n",
    "    - df: DataFrame original.\n",
    "    - column_name: Nombre de la columna a codificar.\n",
    "\n",
    "    Returns:\n",
    "    - DataFrame con el one-hot encoding.\n",
    "    \"\"\"\n",
    "    # Obtener la columna específica y aplicar one-hot encoding\n",
    "    onehot_encoded = pd.get_dummies(df[column_name])\n",
    "    # Cambiar valores booleanos a 0 y 1\n",
    "    onehot_encoded = onehot_encoded.astype(int)\n",
    "\n",
    "    # Fusionar el one-hot encoding con el DataFrame original\n",
    "    df_encoded = pd.concat([df, onehot_encoded], axis=1)\n",
    "\n",
    "    # Eliminar la columna original que fue codificada\n",
    "    df_encoded = df_encoded.drop(column_name, axis=1)\n",
    "\n",
    "    return df_encoded\n",
    "\n",
    "# funcion para crear el attention mask para el modelo\n",
    "def create_attention_mask(row):\n",
    "    return [1 if token != 0 else 0 for token in row]\n"
   ]
  },
  {
   "cell_type": "code",
   "execution_count": 1120,
   "metadata": {},
   "outputs": [
    {
     "name": "stdout",
     "output_type": "stream",
     "text": [
      "trainable params: 628,994 || all params: 67,584,004 || trainable%: 0.9306847223789819\n"
     ]
    },
    {
     "name": "stderr",
     "output_type": "stream",
     "text": [
      "\n",
      "\u001b[A\n",
      "\u001b[A\n",
      "\u001b[A\n",
      "\u001b[A\n",
      "\u001b[A\n",
      "\u001b[A\n",
      "\u001b[A\n",
      "\u001b[A\n",
      "\u001b[A\n",
      "\u001b[A\n",
      "\u001b[A\n",
      "\u001b[A\n",
      "\u001b[A\n",
      "\u001b[A\n",
      "\u001b[A\n",
      "\u001b[A\n",
      "\u001b[A\n",
      "\u001b[A\n",
      "\u001b[A\n",
      "\u001b[A\n",
      "\u001b[A\n",
      "\u001b[A\n",
      "\u001b[A\n",
      "\u001b[A\n",
      "\u001b[A\n",
      "\u001b[A\n",
      "\u001b[A\n",
      "\u001b[A\n",
      "\u001b[A\n",
      "\u001b[A\n",
      "\u001b[A\n",
      "\u001b[A\n",
      "\u001b[A\n",
      "\u001b[A\n",
      "\u001b[A\n",
      "\u001b[A\n",
      "\u001b[A\n",
      "\u001b[A\n",
      "\u001b[A\n",
      "\u001b[A\n",
      "\u001b[A\n",
      "\u001b[A\n",
      "\u001b[A\n",
      "\u001b[A\n",
      "\u001b[A\n",
      "\u001b[A\n",
      "\u001b[A\n",
      "\u001b[A\n",
      "\u001b[A\n",
      "\u001b[A\n",
      "\u001b[A\n",
      "\u001b[A\n",
      "\u001b[A\n",
      "\u001b[A\n",
      "\u001b[A\n",
      "\u001b[A\n",
      "\u001b[A\n",
      "\u001b[A\n",
      "\u001b[A\n",
      "\u001b[A\n",
      "\u001b[A\n",
      "\u001b[A\n",
      "\u001b[A\n",
      "\u001b[A\n",
      "\u001b[A\n",
      "\u001b[A\n",
      "\u001b[A\n",
      "\u001b[A\n",
      "\u001b[A\n",
      "\u001b[A\n",
      "\u001b[A\n",
      "\u001b[A\n",
      "\u001b[A\n",
      "\u001b[A\n",
      "\u001b[A\n",
      "\u001b[A\n",
      "\u001b[A\n",
      "\u001b[A\n",
      "\u001b[A\n",
      "\u001b[A\n",
      "\u001b[A\n",
      "\u001b[A\n",
      "\u001b[A\n",
      "\u001b[A\n",
      "\u001b[A\n",
      "\u001b[A\n",
      "\u001b[A\n",
      "\u001b[A\n",
      "\u001b[A\n",
      "\u001b[A\n",
      "\u001b[A\n",
      "\u001b[A\n",
      "\u001b[A\n",
      "\u001b[A\n",
      "\u001b[A\n",
      "\u001b[A\n",
      "\u001b[A\n",
      "\u001b[A\n",
      "\u001b[A\n",
      "\u001b[A\n",
      "\u001b[A\n",
      "\u001b[A\n",
      "\u001b[A\n",
      "\u001b[A\n",
      "\u001b[A\n",
      "\u001b[A\n",
      "\u001b[A\n",
      "\u001b[A\n",
      "\u001b[A\n",
      "\u001b[A\n",
      "\u001b[A\n",
      "\u001b[A\n",
      "\u001b[A\n",
      "\u001b[A\n",
      "\u001b[A\n",
      "\u001b[A\n",
      "\u001b[A\n",
      "\u001b[A\n",
      "\u001b[A\n",
      "\u001b[A\n",
      "\u001b[A\n",
      "\u001b[A\n",
      "\u001b[A\n",
      "\u001b[A\n",
      "\u001b[A\n",
      "\u001b[A\n",
      "\u001b[A\n",
      "\u001b[A\n",
      "\u001b[A\n",
      "\u001b[A\n",
      "\u001b[A\n",
      "\u001b[A\n",
      "\u001b[A\n",
      "\u001b[A\n",
      "\u001b[A\n",
      "\u001b[A\n",
      "\u001b[A\n",
      "\u001b[A\n",
      "\u001b[A\n",
      "\u001b[A\n",
      "\u001b[A\n",
      "\u001b[A\n",
      "\u001b[A\n",
      "\u001b[A\n",
      "\u001b[A\n",
      "\u001b[A\n",
      "\u001b[A\n",
      "\u001b[A\n",
      "\u001b[A\n",
      "\u001b[A\n",
      "\u001b[A\n",
      "\u001b[A\n",
      "\u001b[A\n",
      "\u001b[A\n",
      "\u001b[A\n",
      "\u001b[A\n",
      "\u001b[A\n",
      "\u001b[A\n",
      "\u001b[A\n",
      "\u001b[A\n",
      "\u001b[A\n",
      "\u001b[A\n",
      "\u001b[A\n",
      "\u001b[A\n",
      "\u001b[A\n",
      "\u001b[A\n",
      "\u001b[A\n",
      "\u001b[A\n",
      "\u001b[A\n",
      "\u001b[A\n",
      "\u001b[A\n",
      "\u001b[A\n",
      "\u001b[A\n",
      "\u001b[A\n",
      "\u001b[A\n",
      "\u001b[A\n",
      "\u001b[A\n",
      "\u001b[A\n",
      "\u001b[A\n",
      "\u001b[A\n",
      "\u001b[A\n",
      "\u001b[A\n",
      "\u001b[A\n",
      "\u001b[A\n",
      "\u001b[A\n",
      "\u001b[A\n",
      "\u001b[A\n",
      "\u001b[A\n",
      "\u001b[A\n",
      "\u001b[A\n",
      "\u001b[A\n",
      "\u001b[A\n",
      "\u001b[A\n",
      "\u001b[A\n",
      "\u001b[A\n",
      "\u001b[A\n",
      "\u001b[A\n",
      "\u001b[A\n",
      "\u001b[A\n",
      "\u001b[A\n",
      "\u001b[A\n",
      "\u001b[A\n",
      "\u001b[A\n",
      "\u001b[A\n",
      "\u001b[A\n",
      "\u001b[A\n",
      "\u001b[A\n",
      "\u001b[A\n",
      "\u001b[A\n",
      "\u001b[A\n",
      "\u001b[A\n",
      "\u001b[A\n",
      "\u001b[A\n",
      "\u001b[A\n",
      "\u001b[A\n",
      "\u001b[A\n",
      "\u001b[A\n",
      "\u001b[A\n",
      "\u001b[A\n",
      "\u001b[A\n",
      "\u001b[A\n",
      "\u001b[A\n",
      "\u001b[A\n",
      "\u001b[A\n",
      "\u001b[A\n",
      "\u001b[A\n",
      "\u001b[A\n",
      "\u001b[A\n",
      "\u001b[ATrainer is attempting to log a value of \"{'accuracy': 0.7292958774170011}\" of type <class 'dict'> for key \"eval/accuracy\" as a scalar. This invocation of Tensorboard's writer.add_scalar() is incorrect so we dropped this attribute.\n",
      "                                        \n",
      "\u001b[A                                               \n",
      "\n",
      "  0%|          | 0/1970 [02:52<?, ?it/s]         \n",
      "\u001b[A\n",
      "\u001b[ACheckpoint destination directory distilbert-base-uncased-lora-text-classification\\checkpoint-394 already exists and is non-empty.Saving will proceed but saved results may be invalid.\n"
     ]
    },
    {
     "name": "stdout",
     "output_type": "stream",
     "text": [
      "{'eval_loss': 0.5984054803848267, 'eval_accuracy': {'accuracy': 0.7292958774170011}, 'eval_runtime': 29.4081, 'eval_samples_per_second': 93.206, 'eval_steps_per_second': 31.08, 'epoch': 1.0}\n"
     ]
    },
    {
     "name": "stderr",
     "output_type": "stream",
     "text": [
      "                                        \n",
      "  0%|          | 0/1970 [03:01<?, ?it/s]          "
     ]
    },
    {
     "name": "stdout",
     "output_type": "stream",
     "text": [
      "{'loss': 0.7355, 'learning_rate': 0.0007461928934010153, 'epoch': 1.27}\n"
     ]
    },
    {
     "name": "stderr",
     "output_type": "stream",
     "text": [
      "\n",
      "\u001b[A\n",
      "\u001b[A\n",
      "\u001b[A\n",
      "\u001b[A\n",
      "\u001b[A\n",
      "\u001b[A\n",
      "\u001b[A\n",
      "\u001b[A\n",
      "\u001b[A\n",
      "\u001b[A\n",
      "\u001b[A\n",
      "\u001b[A\n",
      "\u001b[A\n",
      "\u001b[A\n",
      "\u001b[A\n",
      "\u001b[A\n",
      "\u001b[A\n",
      "\u001b[A\n",
      "\u001b[A\n",
      "\u001b[A\n",
      "\u001b[A\n",
      "\u001b[A\n",
      "\u001b[A\n",
      "\u001b[A\n",
      "\u001b[A\n",
      "\u001b[A\n",
      "\u001b[A\n",
      "\u001b[A\n",
      "\u001b[A\n",
      "\u001b[A\n",
      "\u001b[A\n",
      "\u001b[A\n",
      "\u001b[A\n",
      "\u001b[A\n",
      "\u001b[A\n",
      "\u001b[A\n",
      "\u001b[A\n",
      "\u001b[A\n",
      "\u001b[A\n",
      "\u001b[A\n",
      "\u001b[A\n",
      "\u001b[A\n",
      "\u001b[A\n",
      "\u001b[A\n",
      "\u001b[A\n",
      "\u001b[A\n",
      "\u001b[A\n",
      "\u001b[A\n",
      "\u001b[A\n",
      "\u001b[A\n",
      "\u001b[A\n",
      "\u001b[A\n",
      "\u001b[A\n",
      "\u001b[A\n",
      "\u001b[A\n",
      "\u001b[A\n",
      "\u001b[A\n",
      "\u001b[A\n",
      "\u001b[A\n",
      "\u001b[A\n",
      "\u001b[A\n",
      "\u001b[A\n",
      "\u001b[A\n",
      "\u001b[A\n",
      "\u001b[A\n",
      "\u001b[A\n",
      "\u001b[A\n",
      "\u001b[A\n",
      "\u001b[A\n",
      "\u001b[A\n",
      "\u001b[A\n",
      "\u001b[A\n",
      "\u001b[A\n",
      "\u001b[A\n",
      "\u001b[A\n",
      "\u001b[A\n",
      "\u001b[A\n",
      "\u001b[A\n",
      "\u001b[A\n",
      "\u001b[A\n",
      "\u001b[A\n",
      "\u001b[A\n",
      "\u001b[A\n",
      "\u001b[A\n",
      "\u001b[A\n",
      "\u001b[A\n",
      "\u001b[A\n",
      "\u001b[A\n",
      "\u001b[A\n",
      "\u001b[A\n",
      "\u001b[A\n",
      "\u001b[A\n",
      "\u001b[A\n",
      "\u001b[A\n",
      "\u001b[A\n",
      "\u001b[A\n",
      "\u001b[A\n",
      "\u001b[A\n",
      "\u001b[A\n",
      "\u001b[A\n",
      "\u001b[A\n",
      "\u001b[A\n",
      "\u001b[A\n",
      "\u001b[A\n",
      "\u001b[A\n",
      "\u001b[A\n",
      "\u001b[A\n",
      "\u001b[A\n",
      "\u001b[A\n",
      "\u001b[A\n",
      "\u001b[A\n",
      "\u001b[A\n",
      "\u001b[A\n",
      "\u001b[A\n",
      "\u001b[A\n",
      "\u001b[A\n",
      "\u001b[A\n",
      "\u001b[A\n",
      "\u001b[A\n",
      "\u001b[A\n",
      "\u001b[A\n",
      "\u001b[A\n",
      "\u001b[A\n",
      "\u001b[A\n",
      "\u001b[A\n",
      "\u001b[A\n",
      "\u001b[A\n",
      "\u001b[A\n",
      "\u001b[A\n",
      "\u001b[A\n",
      "\u001b[A\n",
      "\u001b[A\n",
      "\u001b[A\n",
      "\u001b[A\n",
      "\u001b[A\n",
      "\u001b[A\n",
      "\u001b[A\n",
      "\u001b[A\n",
      "\u001b[A\n",
      "\u001b[A\n",
      "\u001b[A\n",
      "\u001b[A\n",
      "\u001b[A\n",
      "\u001b[A\n",
      "\u001b[A\n",
      "\u001b[A\n",
      "\u001b[A\n",
      "\u001b[A\n",
      "\u001b[A\n",
      "\u001b[A\n",
      "\u001b[A\n",
      "\u001b[A\n",
      "\u001b[A\n",
      "\u001b[A\n",
      "\u001b[A\n",
      "\u001b[A\n",
      "\u001b[A\n",
      "\u001b[A\n",
      "\u001b[A\n",
      "\u001b[A\n",
      "\u001b[A\n",
      "\u001b[A\n",
      "\u001b[A\n",
      "\u001b[A\n",
      "\u001b[A\n",
      "\u001b[A\n",
      "\u001b[A\n",
      "\u001b[A\n",
      "\u001b[A\n",
      "\u001b[A\n",
      "\u001b[A\n",
      "\u001b[A\n",
      "\u001b[A\n",
      "\u001b[A\n",
      "\u001b[A\n",
      "\u001b[A\n",
      "\u001b[A\n",
      "\u001b[A\n",
      "\u001b[A\n",
      "\u001b[A\n",
      "\u001b[A\n",
      "\u001b[A\n",
      "\u001b[A\n",
      "\u001b[A\n",
      "\u001b[A\n",
      "\u001b[A\n",
      "\u001b[A\n",
      "\u001b[A\n",
      "\u001b[A\n",
      "\u001b[A\n",
      "\u001b[A\n",
      "\u001b[A\n",
      "\u001b[A\n",
      "\u001b[A\n",
      "\u001b[A\n",
      "\u001b[A\n",
      "\u001b[A\n",
      "\u001b[A\n",
      "\u001b[A\n",
      "\u001b[A\n",
      "\u001b[A\n",
      "\u001b[A\n",
      "\u001b[A\n",
      "\u001b[A\n",
      "\u001b[A\n",
      "\u001b[A\n",
      "\u001b[A\n",
      "\u001b[A\n",
      "\u001b[A\n",
      "\u001b[A\n",
      "\u001b[A\n",
      "\u001b[A\n",
      "\u001b[A\n",
      "\u001b[A\n",
      "\u001b[A\n",
      "\u001b[A\n",
      "\u001b[A\n",
      "\u001b[A\n",
      "\u001b[A\n",
      "\u001b[A\n",
      "\u001b[A\n",
      "\u001b[A\n",
      "\u001b[A\n",
      "\u001b[A\n",
      "\u001b[A\n",
      "\u001b[A\n",
      "\u001b[A\n",
      "\u001b[A\n",
      "\u001b[A\n",
      "\u001b[A\n",
      "\u001b[A\n",
      "\u001b[A\n",
      "\u001b[A\n",
      "\u001b[A\n",
      "\u001b[A\n",
      "\u001b[A\n",
      "\u001b[A\n",
      "\u001b[A\n",
      "\u001b[ATrainer is attempting to log a value of \"{'accuracy': 0.4206493980299161}\" of type <class 'dict'> for key \"eval/accuracy\" as a scalar. This invocation of Tensorboard's writer.add_scalar() is incorrect so we dropped this attribute.\n",
      "                                        \n",
      "\u001b[A                                               \n",
      "\n",
      "  0%|          | 0/1970 [03:55<?, ?it/s]         \n",
      "\u001b[A\n",
      "\u001b[ACheckpoint destination directory distilbert-base-uncased-lora-text-classification\\checkpoint-788 already exists and is non-empty.Saving will proceed but saved results may be invalid.\n"
     ]
    },
    {
     "name": "stdout",
     "output_type": "stream",
     "text": [
      "{'eval_loss': 0.8914718627929688, 'eval_accuracy': {'accuracy': 0.4206493980299161}, 'eval_runtime': 30.0469, 'eval_samples_per_second': 91.224, 'eval_steps_per_second': 30.419, 'epoch': 2.0}\n"
     ]
    },
    {
     "name": "stderr",
     "output_type": "stream",
     "text": [
      "                                        \n",
      "  0%|          | 0/1970 [04:13<?, ?it/s]          "
     ]
    },
    {
     "name": "stdout",
     "output_type": "stream",
     "text": [
      "{'loss': 0.7071, 'learning_rate': 0.0004923857868020305, 'epoch': 2.54}\n"
     ]
    },
    {
     "name": "stderr",
     "output_type": "stream",
     "text": [
      "\n",
      "\u001b[A\n",
      "\u001b[A\n",
      "\u001b[A\n",
      "\u001b[A\n",
      "\u001b[A\n",
      "\u001b[A\n",
      "\u001b[A\n",
      "\u001b[A\n",
      "\u001b[A\n",
      "\u001b[A\n",
      "\u001b[A\n",
      "\u001b[A\n",
      "\u001b[A\n",
      "\u001b[A\n",
      "\u001b[A\n",
      "\u001b[A\n",
      "\u001b[A\n",
      "\u001b[A\n",
      "\u001b[A\n",
      "\u001b[A\n",
      "\u001b[A\n",
      "\u001b[A\n",
      "\u001b[A\n",
      "\u001b[A\n",
      "\u001b[A\n",
      "\u001b[A\n",
      "\u001b[A\n",
      "\u001b[A\n",
      "\u001b[A\n",
      "\u001b[A\n",
      "\u001b[A\n",
      "\u001b[A\n",
      "\u001b[A\n",
      "\u001b[A\n",
      "\u001b[A\n",
      "\u001b[A\n",
      "\u001b[A\n",
      "\u001b[A\n",
      "\u001b[A\n",
      "\u001b[A\n",
      "\u001b[A\n",
      "\u001b[A\n",
      "\u001b[A\n",
      "\u001b[A\n",
      "\u001b[A\n",
      "\u001b[A\n",
      "\u001b[A\n",
      "\u001b[A\n",
      "\u001b[A\n",
      "\u001b[A\n",
      "\u001b[A\n",
      "\u001b[A\n",
      "\u001b[A\n",
      "\u001b[A\n",
      "\u001b[A\n",
      "\u001b[A\n",
      "\u001b[A\n",
      "\u001b[A\n",
      "\u001b[A\n",
      "\u001b[A\n",
      "\u001b[A\n",
      "\u001b[A\n",
      "\u001b[A\n",
      "\u001b[A\n",
      "\u001b[A\n",
      "\u001b[A\n",
      "\u001b[A\n",
      "\u001b[A\n",
      "\u001b[A\n",
      "\u001b[A\n",
      "\u001b[A\n",
      "\u001b[A\n",
      "\u001b[A\n",
      "\u001b[A\n",
      "\u001b[A\n",
      "\u001b[A\n",
      "\u001b[A\n",
      "\u001b[A\n",
      "\u001b[A\n",
      "\u001b[A\n",
      "\u001b[A\n",
      "\u001b[A\n",
      "\u001b[A\n",
      "\u001b[A\n",
      "\u001b[A\n",
      "\u001b[A\n",
      "\u001b[A\n",
      "\u001b[A\n",
      "\u001b[A\n",
      "\u001b[A\n",
      "\u001b[A\n",
      "\u001b[A\n",
      "\u001b[A\n",
      "\u001b[A\n",
      "\u001b[A\n",
      "\u001b[A\n",
      "\u001b[A\n",
      "\u001b[A\n",
      "\u001b[A\n",
      "\u001b[A\n",
      "\u001b[A\n",
      "\u001b[A\n",
      "\u001b[A\n",
      "\u001b[A\n",
      "\u001b[A\n",
      "\u001b[A\n",
      "\u001b[A\n",
      "\u001b[A\n",
      "\u001b[A\n",
      "\u001b[A\n",
      "\u001b[A\n",
      "\u001b[A\n",
      "\u001b[A\n",
      "\u001b[A\n",
      "\u001b[A\n",
      "\u001b[A\n",
      "\u001b[A\n",
      "\u001b[A\n",
      "\u001b[A\n",
      "\u001b[A\n",
      "\u001b[A\n",
      "\u001b[A\n",
      "\u001b[A\n",
      "\u001b[A\n",
      "\u001b[A\n",
      "\u001b[A\n",
      "\u001b[A\n",
      "\u001b[A\n",
      "\u001b[A\n",
      "\u001b[A\n",
      "\u001b[A\n",
      "\u001b[A\n",
      "\u001b[A\n",
      "\u001b[A\n",
      "\u001b[A\n",
      "\u001b[A\n",
      "\u001b[A\n",
      "\u001b[A\n",
      "\u001b[A\n",
      "\u001b[A\n",
      "\u001b[A\n",
      "\u001b[A\n",
      "\u001b[A\n",
      "\u001b[A\n",
      "\u001b[A\n",
      "\u001b[A\n",
      "\u001b[A\n",
      "\u001b[A\n",
      "\u001b[A\n",
      "\u001b[A\n",
      "\u001b[A\n",
      "\u001b[A\n",
      "\u001b[A\n",
      "\u001b[A\n",
      "\u001b[A\n",
      "\u001b[A\n",
      "\u001b[A\n",
      "\u001b[A\n",
      "\u001b[A\n",
      "\u001b[A\n",
      "\u001b[A\n",
      "\u001b[A\n",
      "\u001b[A\n",
      "\u001b[A\n",
      "\u001b[A\n",
      "\u001b[A\n",
      "\u001b[A\n",
      "\u001b[A\n",
      "\u001b[A\n",
      "\u001b[A\n",
      "\u001b[A\n",
      "\u001b[A\n",
      "\u001b[A\n",
      "\u001b[A\n",
      "\u001b[A\n",
      "\u001b[A\n",
      "\u001b[A\n",
      "\u001b[A\n",
      "\u001b[A\n",
      "\u001b[A\n",
      "\u001b[A\n",
      "\u001b[A\n",
      "\u001b[A\n",
      "\u001b[A\n",
      "\u001b[A\n",
      "\u001b[A\n",
      "\u001b[A\n",
      "\u001b[A\n",
      "\u001b[A\n",
      "\u001b[A\n",
      "\u001b[A\n",
      "\u001b[A\n",
      "\u001b[A\n",
      "\u001b[A\n",
      "\u001b[A\n",
      "\u001b[A\n",
      "\u001b[A\n",
      "\u001b[A\n",
      "\u001b[A\n",
      "\u001b[A\n",
      "\u001b[A\n",
      "\u001b[A\n",
      "\u001b[A\n",
      "\u001b[A\n",
      "\u001b[A\n",
      "\u001b[A\n",
      "\u001b[A\n",
      "\u001b[A\n",
      "\u001b[A\n",
      "\u001b[A\n",
      "\u001b[A\n",
      "\u001b[A\n",
      "\u001b[A\n",
      "\u001b[A\n",
      "\u001b[A\n",
      "\u001b[A\n",
      "\u001b[A\n",
      "\u001b[A\n",
      "\u001b[A\n",
      "\u001b[A\n",
      "\u001b[A\n",
      "\u001b[A\n",
      "\u001b[A\n",
      "\u001b[A\n",
      "\u001b[A\n",
      "\u001b[A\n",
      "\u001b[A\n",
      "\u001b[A\n",
      "\u001b[A\n",
      "\u001b[A\n",
      "\u001b[A\n",
      "\u001b[A\n",
      "\u001b[A\n",
      "\u001b[A\n",
      "\u001b[A\n",
      "\u001b[A\n",
      "\u001b[A\n",
      "\u001b[A\n",
      "\u001b[A\n",
      "\u001b[A\n",
      "\u001b[ATrainer is attempting to log a value of \"{'accuracy': 0.694636993797884}\" of type <class 'dict'> for key \"eval/accuracy\" as a scalar. This invocation of Tensorboard's writer.add_scalar() is incorrect so we dropped this attribute.\n",
      "                                        \n",
      "\u001b[A                                                \n",
      "\n",
      "  0%|          | 0/1970 [04:58<?, ?it/s]         \n",
      "\u001b[A\n",
      "\u001b[ACheckpoint destination directory distilbert-base-uncased-lora-text-classification\\checkpoint-1182 already exists and is non-empty.Saving will proceed but saved results may be invalid.\n"
     ]
    },
    {
     "name": "stdout",
     "output_type": "stream",
     "text": [
      "{'eval_loss': 0.5918941497802734, 'eval_accuracy': {'accuracy': 0.694636993797884}, 'eval_runtime': 30.463, 'eval_samples_per_second': 89.978, 'eval_steps_per_second': 30.004, 'epoch': 3.0}\n"
     ]
    },
    {
     "name": "stderr",
     "output_type": "stream",
     "text": [
      "                                        \n",
      "  0%|          | 0/1970 [05:25<?, ?it/s]           \n"
     ]
    },
    {
     "name": "stdout",
     "output_type": "stream",
     "text": [
      "{'loss': 0.6703, 'learning_rate': 0.0002385786802030457, 'epoch': 3.81}\n"
     ]
    },
    {
     "name": "stderr",
     "output_type": "stream",
     "text": [
      " 76%|███████▌  | 1502/1970 [03:33<00:41, 11.21it/s]\u001b[A\n",
      "\u001b[A\n",
      "\u001b[A\n",
      "\u001b[A\n",
      "\u001b[A\n",
      "\u001b[A\n",
      "\u001b[A\n",
      "\u001b[A\n",
      "\u001b[A\n",
      "\u001b[A\n",
      "\u001b[A\n",
      "\u001b[A\n",
      "\u001b[A\n",
      "\u001b[A\n",
      "\u001b[A\n",
      "\u001b[A\n",
      "\u001b[A\n",
      "\u001b[A\n",
      "\u001b[A\n",
      "\u001b[A\n",
      "\u001b[A\n",
      "\u001b[A\n",
      "\u001b[A\n",
      "\u001b[A\n",
      "\u001b[A\n",
      "\u001b[A\n",
      "\u001b[A\n",
      "\u001b[A\n",
      "\u001b[A\n",
      "\u001b[A\n",
      "\u001b[A\n",
      "\u001b[A\n",
      "\u001b[A\n",
      "\u001b[A\n",
      "\u001b[A\n",
      "\u001b[A\n",
      "\u001b[A\n",
      "\u001b[A\n",
      "\u001b[A\n",
      "\u001b[A\n",
      "\u001b[A\n",
      "\u001b[A\n",
      "\u001b[A\n",
      "\u001b[A\n",
      "\u001b[A\n",
      "\u001b[A\n",
      "\u001b[A\n",
      "\u001b[A\n",
      "\u001b[A\n",
      "\u001b[A\n",
      "\u001b[A\n",
      "\u001b[A\n",
      "\u001b[A\n",
      "\u001b[A\n",
      "\u001b[A\n",
      "\u001b[A\n",
      "\u001b[A\n",
      "\u001b[A\n",
      "\u001b[A\n",
      "\u001b[A\n",
      "\u001b[A\n",
      "\u001b[A\n",
      "\u001b[A\n",
      "\u001b[A\n",
      "\u001b[A\n",
      "\u001b[A\n",
      "\u001b[A\n",
      "\u001b[A\n",
      "\u001b[A\n",
      "\u001b[A\n",
      "\u001b[A\n",
      "\u001b[A\n",
      "\u001b[A\n",
      "\u001b[A\n",
      "\u001b[A\n",
      "\u001b[A\n",
      "\u001b[A\n",
      "\u001b[A\n",
      "\u001b[A\n",
      "\u001b[A\n",
      "\u001b[A\n",
      "\u001b[A\n",
      "\u001b[A\n",
      "\u001b[A\n",
      "\u001b[A\n",
      "\u001b[A\n",
      "\u001b[A\n",
      "\u001b[A\n",
      "\u001b[A\n",
      "\u001b[A\n",
      "\u001b[A\n",
      "\u001b[A\n",
      "\u001b[A\n",
      "\u001b[A\n",
      "\u001b[A\n",
      "\u001b[A\n",
      "\u001b[A\n",
      "\u001b[A\n",
      "\u001b[A\n",
      "\u001b[A\n",
      "\u001b[A\n",
      "\u001b[A\n",
      "\u001b[A\n",
      "\u001b[A\n",
      "\u001b[A\n",
      "\u001b[A\n",
      "\u001b[A\n",
      "\u001b[A\n",
      "\u001b[A\n",
      "\u001b[A\n",
      "\u001b[A\n",
      "\u001b[A\n",
      "\u001b[A\n",
      "\u001b[A\n",
      "\u001b[A\n",
      "\u001b[A\n",
      "\u001b[A\n",
      "\u001b[A\n",
      "\u001b[A\n",
      "\u001b[A\n",
      "\u001b[A\n",
      "\u001b[A\n",
      "\u001b[A\n",
      "\u001b[A\n",
      "\u001b[A\n",
      "\u001b[A\n",
      "\u001b[A\n",
      "\u001b[A\n",
      "\u001b[A\n",
      "\u001b[A\n",
      "\u001b[A\n",
      "\u001b[A\n",
      "\u001b[A\n",
      "\u001b[A\n",
      "\u001b[A\n",
      "\u001b[A\n",
      "\u001b[A\n",
      "\u001b[A\n",
      "\u001b[A\n",
      "\u001b[A\n",
      "\u001b[A\n",
      "\u001b[A\n",
      "\u001b[A\n",
      "\u001b[A\n",
      "\u001b[A\n",
      "\u001b[A\n",
      "\u001b[A\n",
      "\u001b[A\n",
      "\u001b[A\n",
      "\u001b[A\n",
      "\u001b[A\n",
      "\u001b[A\n",
      "\u001b[A\n",
      "\u001b[A\n",
      "\u001b[A\n",
      "\u001b[A\n",
      "\u001b[A\n",
      "\u001b[A\n",
      "\u001b[A\n",
      "\u001b[A\n",
      "\u001b[A\n",
      "\u001b[A\n",
      "\u001b[A\n",
      "\u001b[A\n",
      "\u001b[A\n",
      "\u001b[A\n",
      "\u001b[A\n",
      "\u001b[A\n",
      "\u001b[A\n",
      "\u001b[A\n",
      "\u001b[A\n",
      "\u001b[A\n",
      "\u001b[A\n",
      "\u001b[A\n",
      "\u001b[A\n",
      "\u001b[A\n",
      "\u001b[A\n",
      "\u001b[A\n",
      "\u001b[A\n",
      "\u001b[A\n",
      "\u001b[A\n",
      "\u001b[A\n",
      "\u001b[A\n",
      "\u001b[A\n",
      "\u001b[A\n",
      "\u001b[A\n",
      "\u001b[A\n",
      "\u001b[A\n",
      "\u001b[A\n",
      "\u001b[A\n",
      "\u001b[A\n",
      "\u001b[A\n",
      "\u001b[A\n",
      "\u001b[A\n",
      "\u001b[A\n",
      "\u001b[A\n",
      "\u001b[A\n",
      "\u001b[A\n",
      "\u001b[A\n",
      "\u001b[A\n",
      "\u001b[A\n",
      "\u001b[A\n",
      "\u001b[A\n",
      "\u001b[A\n",
      "\u001b[A\n",
      "\u001b[A\n",
      "\u001b[A\n",
      "\u001b[A\n",
      "\u001b[A\n",
      "\u001b[A\n",
      "\u001b[A\n",
      "\u001b[A\n",
      "\u001b[A\n",
      "\u001b[A\n",
      "\u001b[A\n",
      "\u001b[A\n",
      "\u001b[A\n",
      "\u001b[A\n",
      "\u001b[A\n",
      "\u001b[A\n",
      "\u001b[A\n",
      "\u001b[A\n",
      "\u001b[A\n",
      "\u001b[A\n",
      "\u001b[A\n",
      "\u001b[A\n",
      "\u001b[A\n",
      "\u001b[A\n",
      "\u001b[A\n",
      "\u001b[A\n",
      "\u001b[A\n",
      "\u001b[A\n",
      "\u001b[A\n",
      "\u001b[A\n",
      "\u001b[A\n",
      "\u001b[A\n",
      "\u001b[A\n",
      "\u001b[A\n",
      "\u001b[A\n",
      "\u001b[A\n",
      "\u001b[A\n",
      "\u001b[A\n",
      "\u001b[A\n",
      "\u001b[A\n",
      "\u001b[A\n",
      "\u001b[ATrainer is attempting to log a value of \"{'accuracy': 0.6745713243341847}\" of type <class 'dict'> for key \"eval/accuracy\" as a scalar. This invocation of Tensorboard's writer.add_scalar() is incorrect so we dropped this attribute.\n",
      "                                        \n",
      "\u001b[A                                                \n",
      "\n",
      "  0%|          | 0/1970 [06:02<?, ?it/s]         \n",
      "\u001b[A\n",
      "\u001b[ACheckpoint destination directory distilbert-base-uncased-lora-text-classification\\checkpoint-1576 already exists and is non-empty.Saving will proceed but saved results may be invalid.\n"
     ]
    },
    {
     "name": "stdout",
     "output_type": "stream",
     "text": [
      "{'eval_loss': 0.6612225770950317, 'eval_accuracy': {'accuracy': 0.6745713243341847}, 'eval_runtime': 30.9093, 'eval_samples_per_second': 88.679, 'eval_steps_per_second': 29.57, 'epoch': 4.0}\n"
     ]
    },
    {
     "name": "stderr",
     "output_type": "stream",
     "text": [
      "\n",
      "\u001b[A\n",
      "\u001b[A\n",
      "\u001b[A\n",
      "\u001b[A\n",
      "\u001b[A\n",
      "\u001b[A\n",
      "\u001b[A\n",
      "\u001b[A\n",
      "\u001b[A\n",
      "\u001b[A\n",
      "\u001b[A\n",
      "\u001b[A\n",
      "\u001b[A\n",
      "\u001b[A\n",
      "\u001b[A\n",
      "\u001b[A\n",
      "\u001b[A\n",
      "\u001b[A\n",
      "\u001b[A\n",
      "\u001b[A\n",
      "\u001b[A\n",
      "\u001b[A\n",
      "\u001b[A\n",
      "\u001b[A\n",
      "\u001b[A\n",
      "\u001b[A\n",
      "\u001b[A\n",
      "\u001b[A\n",
      "\u001b[A\n",
      "\u001b[A\n",
      "\u001b[A\n",
      "\u001b[A\n",
      "\u001b[A\n",
      "\u001b[A\n",
      "\u001b[A\n",
      "\u001b[A\n",
      "\u001b[A\n",
      "\u001b[A\n",
      "\u001b[A\n",
      "\u001b[A\n",
      "\u001b[A\n",
      "\u001b[A\n",
      "\u001b[A\n",
      "\u001b[A\n",
      "\u001b[A\n",
      "\u001b[A\n",
      "\u001b[A\n",
      "\u001b[A\n",
      "\u001b[A\n",
      "\u001b[A\n",
      "\u001b[A\n",
      "\u001b[A\n",
      "\u001b[A\n",
      "\u001b[A\n",
      "\u001b[A\n",
      "\u001b[A\n",
      "\u001b[A\n",
      "\u001b[A\n",
      "\u001b[A\n",
      "\u001b[A\n",
      "\u001b[A\n",
      "\u001b[A\n",
      "\u001b[A\n",
      "\u001b[A\n",
      "\u001b[A\n",
      "\u001b[A\n",
      "\u001b[A\n",
      "\u001b[A\n",
      "\u001b[A\n",
      "\u001b[A\n",
      "\u001b[A\n",
      "\u001b[A\n",
      "\u001b[A\n",
      "\u001b[A\n",
      "\u001b[A\n",
      "\u001b[A\n",
      "\u001b[A\n",
      "\u001b[A\n",
      "\u001b[A\n",
      "\u001b[A\n",
      "\u001b[A\n",
      "\u001b[A\n",
      "\u001b[A\n",
      "\u001b[A\n",
      "\u001b[A\n",
      "\u001b[A\n",
      "\u001b[A\n",
      "\u001b[A\n",
      "\u001b[A\n",
      "\u001b[A\n",
      "\u001b[A\n",
      "\u001b[A\n",
      "\u001b[A\n",
      "\u001b[A\n",
      "\u001b[A\n",
      "\u001b[A\n",
      "\u001b[A\n",
      "\u001b[A\n",
      "\u001b[A\n",
      "\u001b[A\n",
      "\u001b[A\n",
      "\u001b[A\n",
      "\u001b[A\n",
      "\u001b[A\n",
      "\u001b[A\n",
      "\u001b[A\n",
      "\u001b[A\n",
      "\u001b[A\n",
      "\u001b[A\n",
      "\u001b[A\n",
      "\u001b[A\n",
      "\u001b[A\n",
      "\u001b[A\n",
      "\u001b[A\n",
      "\u001b[A\n",
      "\u001b[A\n",
      "\u001b[A\n",
      "\u001b[A\n",
      "\u001b[A\n",
      "\u001b[A\n",
      "\u001b[A\n",
      "\u001b[A\n",
      "\u001b[A\n",
      "\u001b[A\n",
      "\u001b[A\n",
      "\u001b[A\n",
      "\u001b[A\n",
      "\u001b[A\n",
      "\u001b[A\n",
      "\u001b[A\n",
      "\u001b[A\n",
      "\u001b[A\n",
      "\u001b[A\n",
      "\u001b[A\n",
      "\u001b[A\n",
      "\u001b[A\n",
      "\u001b[A\n",
      "\u001b[A\n",
      "\u001b[A\n",
      "\u001b[A\n",
      "\u001b[A\n",
      "\u001b[A\n",
      "\u001b[A\n",
      "\u001b[A\n",
      "\u001b[A\n",
      "\u001b[A\n",
      "\u001b[A\n",
      "\u001b[A\n",
      "\u001b[A\n",
      "\u001b[A\n",
      "\u001b[A\n",
      "\u001b[A\n",
      "\u001b[A\n",
      "\u001b[A\n",
      "\u001b[A\n",
      "\u001b[A\n",
      "\u001b[A\n",
      "\u001b[A\n",
      "\u001b[A\n",
      "\u001b[A\n",
      "\u001b[A\n",
      "\u001b[A\n",
      "\u001b[A\n",
      "\u001b[A\n",
      "\u001b[A\n",
      "\u001b[A\n",
      "\u001b[A\n",
      "\u001b[A\n",
      "\u001b[A\n",
      "\u001b[A\n",
      "\u001b[A\n",
      "\u001b[A\n",
      "\u001b[A\n",
      "\u001b[A\n",
      "\u001b[A\n",
      "\u001b[A\n",
      "\u001b[A\n",
      "\u001b[A\n",
      "\u001b[A\n",
      "\u001b[A\n",
      "\u001b[A\n",
      "\u001b[A\n",
      "\u001b[A\n",
      "\u001b[A\n",
      "\u001b[A\n",
      "\u001b[A\n",
      "\u001b[A\n",
      "\u001b[A\n",
      "\u001b[A\n",
      "\u001b[A\n",
      "\u001b[A\n",
      "\u001b[A\n",
      "\u001b[A\n",
      "\u001b[A\n",
      "\u001b[A\n",
      "\u001b[A\n",
      "\u001b[A\n",
      "\u001b[A\n",
      "\u001b[A\n",
      "\u001b[A\n",
      "\u001b[A\n",
      "\u001b[A\n",
      "\u001b[A\n",
      "\u001b[A\n",
      "\u001b[A\n",
      "\u001b[A\n",
      "\u001b[A\n",
      "\u001b[A\n",
      "\u001b[A\n",
      "\u001b[A\n",
      "\u001b[A\n",
      "\u001b[A\n",
      "\u001b[A\n",
      "\u001b[A\n",
      "\u001b[A\n",
      "\u001b[A\n",
      "\u001b[A\n",
      "\u001b[A\n",
      "\u001b[A\n",
      "\u001b[A\n",
      "\u001b[A\n",
      "\u001b[A\n",
      "\u001b[A\n",
      "\u001b[A\n",
      "\u001b[A\n",
      "\u001b[A\n",
      "\u001b[A\n",
      "\u001b[A\n",
      "\u001b[A\n",
      "\u001b[A\n",
      "\u001b[A\n",
      "\u001b[A\n",
      "\u001b[A\n",
      "\u001b[A\n",
      "\u001b[A\n",
      "\u001b[A\n",
      "\u001b[A\n",
      "\u001b[A\n",
      "\u001b[A\n",
      "\u001b[A\n",
      "\u001b[A\n",
      "\u001b[A\n",
      "\u001b[A\n",
      "\u001b[A\n",
      "\u001b[A\n",
      "\u001b[A\n",
      "\u001b[A\n",
      "\u001b[ATrainer is attempting to log a value of \"{'accuracy': 0.614009485589201}\" of type <class 'dict'> for key \"eval/accuracy\" as a scalar. This invocation of Tensorboard's writer.add_scalar() is incorrect so we dropped this attribute.\n",
      "                                        \n",
      "\u001b[A                                                \n",
      "\n",
      "  0%|          | 0/1970 [07:08<?, ?it/s]         \n",
      "\u001b[A\n",
      "\u001b[ACheckpoint destination directory distilbert-base-uncased-lora-text-classification\\checkpoint-1970 already exists and is non-empty.Saving will proceed but saved results may be invalid.\n",
      "                                        "
     ]
    },
    {
     "name": "stdout",
     "output_type": "stream",
     "text": [
      "{'eval_loss': 0.7877328395843506, 'eval_accuracy': {'accuracy': 0.614009485589201}, 'eval_runtime': 30.9498, 'eval_samples_per_second': 88.563, 'eval_steps_per_second': 29.532, 'epoch': 5.0}\n"
     ]
    },
    {
     "name": "stderr",
     "output_type": "stream",
     "text": [
      "\n",
      "100%|██████████| 1970/1970 [05:16<00:00,  6.23it/s]\n"
     ]
    },
    {
     "name": "stdout",
     "output_type": "stream",
     "text": [
      "{'train_runtime': 316.3826, 'train_samples_per_second': 18.68, 'train_steps_per_second': 6.227, 'train_loss': 0.6769485706000159, 'epoch': 5.0}\n",
      "Trained model predictions:\n",
      "--------------------------\n",
      "True\n",
      "whet appetite italy suggestion - True\n",
      "Accuracy: 0.63\n",
      "Confusion Matrix:\n",
      "[[ 122  118]\n",
      " [ 892 1609]]\n"
     ]
    },
    {
     "data": {
      "image/png": "[encoded data removed]",
      "text/plain": [
       "<Figure size 640x480 with 2 Axes>"
      ]
     },
     "metadata": {},
     "output_type": "display_data"
    },
    {
     "name": "stdout",
     "output_type": "stream",
     "text": [
      "Reporte de Clasificación:\n",
      "              precision    recall  f1-score   support\n",
      "\n",
      "           0       0.12      0.51      0.19       240\n",
      "           1       0.93      0.64      0.76      2501\n",
      "\n",
      "    accuracy                           0.63      2741\n",
      "   macro avg       0.53      0.58      0.48      2741\n",
      "weighted avg       0.86      0.63      0.71      2741\n",
      "\n"
     ]
    }
   ],
   "source": [
    "from sklearn.utils import resample\n",
    "\n",
    "\n",
    "train_tokenized2 = train_tokenized.copy() \n",
    "test_tokenized2 = test_tokenized.copy() \n",
    "validation_tokenized2 = validation_tokenized.copy() \n",
    "\n",
    "train_tokenized2['game_score'] = pd.DataFrame(train_data['game_score'].apply(pd.Series).stack().reset_index(level=1, drop=True).reset_index(drop = True)).rename(columns = {0:'game_score'})\n",
    "test_tokenized2['game_score'] = pd.DataFrame(test_data['game_score'].apply(pd.Series).stack().reset_index(level=1, drop=True).reset_index(drop = True)).rename(columns = {0:'game_score'})\n",
    "validation_tokenized2['game_score'] = pd.DataFrame(validation_data['game_score'].apply(pd.Series).stack().reset_index(level=1, drop=True).reset_index(drop = True)).rename(columns = {0:'game_score'})\n",
    "\n",
    "train_tokenized2['game_score'] =  train_tokenized2['game_score'].astype(int) \n",
    "test_tokenized2['game_score'] =  test_tokenized2['game_score'].astype(int) \n",
    "validation_tokenized2['game_score'] =  validation_tokenized2['game_score'].astype(int) \n",
    "\n",
    "train_speakers = pd.DataFrame(train_data['speakers'].apply(pd.Series).stack().reset_index(level=1, drop=True).reset_index(drop = True)).rename(columns = {0:'speakers'})\n",
    "train_speakers_OHE = onehot_encode_column(train_speakers, 'speakers')\n",
    "# Procesan los datos para obtener las variables exogenas sumadas al texto\n",
    "train_tokenized_result = preprocess_data(train_tokenized2, tokenizer, train_speakers_OHE,use_fit_transform=True)\n",
    "train_tokenized_result['attention_mask'] = train_tokenized_result['input_ids'].apply(create_attention_mask)\n",
    "\n",
    "test_speakers = pd.DataFrame(test_data['speakers'].apply(pd.Series).stack().reset_index(level=1, drop=True).reset_index(drop = True)).rename(columns = {0:'speakers'})\n",
    "test_speakers_OHE = onehot_encode_column(test_speakers, 'speakers')\n",
    "# Procesan los datos para obtener las variables exogenas sumadas al texto\n",
    "test_tokenized_result = preprocess_data(test_tokenized2, tokenizer, test_speakers_OHE,use_fit_transform=False)\n",
    "test_tokenized_result['attention_mask'] = test_tokenized_result['input_ids'].apply(create_attention_mask)\n",
    "\n",
    "validation_speakers = pd.DataFrame(validation_data['speakers'].apply(pd.Series).stack().reset_index(level=1, drop=True).reset_index(drop = True)).rename(columns = {0:'speakers'})\n",
    "validation_speakers_OHE = onehot_encode_column(validation_speakers, 'speakers')\n",
    "# Procesan los datos para obtener las variables exogenas sumadas al texto\n",
    "validation_tokenized_result = preprocess_data(validation_tokenized2, tokenizer, validation_speakers_OHE,use_fit_transform=False)\n",
    "validation_tokenized_result['attention_mask'] = validation_tokenized_result['input_ids'].apply(create_attention_mask)\n",
    "\n",
    "\n",
    "\n",
    "df_class_0 = train_tokenized_result[train_tokenized_result['label'] == 0] \n",
    "df_class_1 = train_tokenized_result[train_tokenized_result['label'] == 1]\n",
    "\n",
    "# Submuestrear la clase mayoritaria (clase 1) a 591 instancias\n",
    "df_class_1_resampled = resample(df_class_1, replace=False, n_samples=591, random_state=42) \n",
    "\n",
    "# Combinar las clases equilibradas\n",
    "df_balanced = pd.concat([df_class_0, df_class_1_resampled]).reset_index(drop = True) \n",
    "\n",
    "\n",
    "# Definir las características\n",
    "features = Features({\n",
    "    'label': ClassLabel(names=[0, 1], id=None),\n",
    "    'input_ids': Sequence(feature=Value(dtype='int64', id=None)),\n",
    "    'attention_mask': Sequence(feature=Value(dtype='int64', id=None)), \n",
    "})  \n",
    "\n",
    "df_balanced.reset_index(drop=True, inplace=True)\n",
    "\n",
    "# Crear el conjunto de datos\n",
    "train_dataset = Dataset.from_pandas(df_balanced, features=features)\n",
    "test_dataset = Dataset.from_pandas(test_tokenized_result, features=features) \n",
    "validation_dataset = Dataset.from_pandas(validation_tokenized_result, features=features)\n",
    "\n",
    "\n",
    "dataset_dict = DatasetDict({\n",
    "    \"train\": train_dataset,\n",
    "    \"test\": test_dataset,\n",
    "    \"validation\": validation_dataset,\n",
    "})\n",
    "\n",
    "data_collator = DataCollatorWithPadding(tokenizer=tokenizer)\n",
    "\n",
    "# import accuracy evaluation metric\n",
    "accuracy = evaluate.load(\"accuracy\")\n",
    "\n",
    "# se define una funcion de evaluacion que sera utilizada en el entranmiento\n",
    "def compute_metrics(p):\n",
    "    predictions, labels = p\n",
    "    predictions = np.argmax(predictions, axis=1)\n",
    "\n",
    "    return {\"accuracy\": accuracy.compute(predictions=predictions, references=labels)}\n",
    "\n",
    "peft_config = LoraConfig(task_type=\"SEQ_CLS\", # sequence classification\n",
    "                        r=4, # intrinsic rank of trainable weight matrix\n",
    "                        lora_alpha=32, # used for scalling the LoRA reparametrization .\n",
    "                        lora_dropout=0.01, # probablity of dropout\n",
    "                        target_modules = ['q_lin']) # we apply LoRA to query layer only\n",
    "\n",
    "model = get_peft_model(model, peft_config)\n",
    "model.print_trainable_parameters()\n",
    "\n",
    "# hyperparametros\n",
    "lr = 0.001# size of optimization step \n",
    "batch_size = 3 # number of examples processed per optimziation step\n",
    "num_epochs = 5 # number of times model runs through training data\n",
    "\n",
    "# define training arguments\n",
    "training_args = TrainingArguments(\n",
    "    output_dir= modelo + \"-lora-text-classification\",\n",
    "    learning_rate=lr,\n",
    "    per_device_train_batch_size=batch_size, \n",
    "    per_device_eval_batch_size=batch_size,\n",
    "    num_train_epochs=num_epochs,\n",
    "    weight_decay=0.01,\n",
    "    evaluation_strategy=\"epoch\",\n",
    "    save_strategy=\"epoch\",\n",
    "    load_best_model_at_end=True,\n",
    ")\n",
    "\n",
    "\n",
    "# creater trainer object\n",
    "trainer2 = Trainer(\n",
    "    model=model, # our peft model\n",
    "    args=training_args, # hyperparameters\n",
    "    train_dataset= dataset_dict['train'], # training data \n",
    "    eval_dataset=dataset_dict['test'], # test data  \n",
    "    tokenizer=tokenizer, # define tokenizer\n",
    "    data_collator=data_collator, # this will dynamically pad examples in each batch to be equal length\n",
    "    compute_metrics=compute_metrics, # evaluates model using compute_metrics() function from before\n",
    ")\n",
    "\n",
    "# train model\n",
    "trainer2.train()\n",
    "\n",
    "device = \"cuda\" if torch.cuda.is_available() else \"cpu\"\n",
    "model.to(device)\n",
    "print(\"Trained model predictions:\")\n",
    "print(\"--------------------------\")\n",
    "for text in train_tokenized2[['text']].iloc[1]:  \n",
    "    # Tokeniza y codifica el texto\n",
    "    inputs = tokenizer.encode(text, return_tensors=\"pt\").to(device)\n",
    "\n",
    "    # Realiza la inferencia en el modelo\n",
    "    logits = model(inputs).logits\n",
    "    predictions = torch.max(logits, 1).indices\n",
    "    print(id2label[predictions.tolist()[0]]) \n",
    "\n",
    "    print(text + \" - \" + id2label[predictions.tolist()[0]])\n",
    "\n",
    "\n",
    "# realizamos las predicciones para los datos de testeo para calcular las metricas y ver la calidad del modelo con los datos utilizados\n",
    "prediction_f = []\n",
    "for index, row in test_tokenized2.iterrows(): \n",
    "    text = row['text']\n",
    "\n",
    "    # Tokeniza y codifica el texto\n",
    "    inputs = tokenizer.encode(text, return_tensors=\"pt\").to(device)\n",
    "\n",
    "    # Realiza la inferencia en el modelo\n",
    "    logits = model(inputs).logits\n",
    "    predictions = torch.max(logits, 1).indices\n",
    "    prediction_f.append([text, predictions.tolist()[0]])\n",
    "if len(prediction_f) > 0:\n",
    "    result = pd.DataFrame(prediction_f).rename(columns={0:'text',1:'label_predicted'})\n",
    "\n",
    "\n",
    "from sklearn.metrics import accuracy_score, confusion_matrix\n",
    "\n",
    "\n",
    "accuracy = accuracy_score(test_tokenized['label'], result['label_predicted'])\n",
    "print(f'Accuracy: {accuracy:.2f}')\n",
    "\n",
    "# Calcula la matriz de confusión\n",
    "conf_matrix = confusion_matrix(test_tokenized['label'], result['label_predicted'])\n",
    "print('Confusion Matrix:')\n",
    "print(conf_matrix)\n",
    "\n",
    "import seaborn as sns\n",
    "import matplotlib.pyplot as plt\n",
    "from sklearn.metrics import confusion_matrix, classification_report\n",
    "\n",
    "# Calcula la matriz de confusión\n",
    "conf_matrix = confusion_matrix(test_tokenized['label'], result['label_predicted'])\n",
    "\n",
    "# Calcula el reporte de clasificación\n",
    "class_report = classification_report(test_tokenized['label'], result['label_predicted'])\n",
    "\n",
    "# Crea un mapa de calor de la matriz de confusión\n",
    "sns.heatmap(conf_matrix, annot=True, fmt='d', cmap='Blues', annot_kws={\"size\": 16})\n",
    "plt.xlabel('Etiquetas Predichas')\n",
    "plt.ylabel('Etiquetas Reales')\n",
    "plt.title('Matriz de Confusión')\n",
    "plt.show()\n",
    "\n",
    "# Imprime el reporte de clasificación\n",
    "print(\"Reporte de Clasificación:\")\n",
    "print(class_report)"
   ]
  },
  {
   "cell_type": "markdown",
   "metadata": {},
   "source": [
    "Conclusion 4\n",
    "\n",
    "# Conclusion 2\n",
    "\n",
    "Se puede observar una disminucion en la precision en el modelo, sin embargo la matrix de confusion evidencia un gran porcentaje en falsos positivos y falsos negativos (aunque en este casi disminuyeron los falsos negativos), para la clase minoritaria respecto a su mimsma proporcion de clases, la etiqueta de 0 clasifica la mayor cantidad como falsos positivos. En este caso se modifico la matriz de entrada de los datos de manera manual, para incorporar dos nuevas variables que son el game_score y el speaker (que me dice el pais de donde pertenece cada frase).\n",
    "\n",
    "Se podrian aplicar otras tecnicas para tratar el desbalanceo de clases o aumentando la data. Ademas, es posible probar mas hiperparametros y tratar de mejorar el score de la metrica y tratar los falsos positivos a traves de otros modelos de clasificacion que permitan modificar la probabilidad de que un valor pertenezca a una clase, por lo general el umbral suele ser del 0.5 y a partir de ahi se determina si es 1 o 0, una solucion seria aumentar ese umbral para tratar el problema en la precision del modelo. </br>\n",
    "\n",
    "El recall da cuenta sobre cuantos valores positivos son correctamente clasificados, en este caso el recall  para la prediccion de 1 (verdad) =  0.64, mientras que para 0 el recall es = 0.51. </br>\n",
    "\n",
    "La precision me explica cuanto porcentaje de valores que se han clasificado como positivos son realmente positivos, en este caso para el valor de 1 la precision toma un valor de 0.93 o un 93% y para 0 toma el valor de 0.12, en este caso se concluye que el modelo tiene problemas para distinguir las mentiras de las verdades. </br>\n",
    "\n",
    "El f1 score evidencia que para la clase cero falla casi en todo el tiempo (f1 = 0.19), mientras que para la clase 1 (f1 = 0.76) el valor es mayor. El f1 score alcanza su maximo cuando la precision y la exhaustividad son perfectas. Esta metrica es util en situaciones donde clasificar correctamente las instancias positivas es tan importante como minimizar los falsos positivos y los falsos negativos.\n",
    "\n",
    "Si bien no se realizo esto en el codigo debido al tiempo, si que es posible mejorar el modelo o utilizar un modelo mas robusto u otras tecnicas mas comunes para llegar a detectar una verdad o una mentira en el texto.\n",
    "Es importante conocer mas a fondo el modelo a utilizar y con que data fue entrenado ya que esto puede afectar el resultado final. Si bien distilbert-base-uncased es pequeño, se pueden implementar modelos mas robustos como: roberta-base, llama2, gpt2. \n",
    "\n",
    "La tenica de fine tunung añadiendo nuevos parametros de entrenamiento utilizando el low rank adaptation (LoRA) en este caso sirve para utilizar nuevos datos de entramiento y añadirlos al modelo, dejando los parametros de W0 fijos y optimizando los pesos de los delta-W.\n",
    "\n",
    "\n",
    "-------------------------------------------------------------------------- COMPARACION MODELO - ARTICULO -------------------------------------------------------------------\n",
    "\n",
    "El modelo - It Takes Two to Lie: One to Lie, and One to Listen, se basa en diferentes modelos de machine learning y deep learning para detectar una mentira. Los investigadores dedican un esferzo en entender completamente el juego y las condiciones del mismo ya que puede durar hasta un año, y se toman decisiones para la clasificacion a partir de textos largos que contengan verdad y mentira juntos,  para no sesgar el resultado. \n",
    "En el articulo tratan el problema con detectar lo que es una mentira y lo que se percibe como una mentira, sin embargo no es tan sencillo ya que la mayoria de las afirmaciones no son mentiras, menos del cinco por ciento de los mensajes se etiquetan como mentiras en ambas tareas de mentira real y sospecha de mentira.\n",
    "Los resultados utilizan una característica de F1 ponderada en la predicción de verdad y mentira, ya que la precisión es una métrica inflada dada la desigualdad de clases. Se adopta un enfoque de entrenamiento donde las predicciones incorrectas de mentiras se penalizan más que las afirmaciones verídicas. La penalización relativa entre las dos clases es un hiperparámetro ajustado en F1. Los investigadores se centran en la detección de mentiras, donde los humanos tienen un F1 de Mentira del 22.5.\n",
    "\n",
    "Para tratar el sobreajuste en los juegos se utilizan nueve juegos como datos de entrenamiento, uno se utiliza para validación para ajustar parámetros, y dos juegos son datos de prueba. Algunos jugadores se repiten entre los juegos.\n",
    "\n",
    "PARA NUESTRO CASO, SE UTILIZAN LOS DATOS DE ENTRENAMIENTO Y LOS DATOS DE TESTEO PARA AJUSTAR PARAMETROS Y LOS DATOS DE VALIDACION PARA REALIZAR LAS PREDICCIONES.ESTO CON EL FIN DE QUE EL AJUSTE DE HIPERPARAMETROS TENGA EN CUENTA MAS DE 1 JUEGO. Y QUE LA PREDICCION FINAL SEA SIMPLEMENTE DE 1 SOLO JUEGO(validation). \n",
    "\n",
    "A DIFERENCIA DEL MODELO IMPLEMENTADO, EN EL ARTICULO USAN UN MODELO DE REGRESION LOGISTICA DONDE LOS COEFICIENTES PUEDEN SER INTERPRETABLES DONDE LAS PALABRAS SE PUEDEN RELACIONAR CON MENTIRAS, POR EJEMPLO UNA PALABRA QUE OCURRE FRECUENTEMENTE PERO ES MENTIRA COMO: HONESTO, ABIERTAMENTE, AYUDAN IDENTIFICAR QUE MENSAJE ES MENTIRA. SE UTILIZA UN MODELO LINGUISTICO LLAMADO  \"Linguistic Harbingers\" QUE SIRVE PARA PREDECIR LA DECEPCION, EL CUAL CONTIENE UN CONJUNTO DE PALABRAS QUE SE UTILIZAN EN TEMAS INTERPERSONALES. DE ESTA MANERA AYUDAN A MEJORAR EL F1 SCORE A PARTIR DE ESTAS CARACTERISTICAS. EN LOS MODELOS IMPLEMENTADOS EN ESTE NOTEBOOK, SE BASA EN UN MODELO TRANSFORMER DISTILBERT QUE SE BASA EN LA ARQUITECTURA BERT- PERO ES MAS LIGERO Y EFICIENTE EN TERMINOS COMPUTACIONALES, EL CUAL CONTIENE YA UN ENTRENAMIENTO BASE CON EL CUAL TRABAJAR Y A PARTIR DE NUESTROS DATOS ETIQUETADOS ENTRENAR EL MODELO DE CLASIFICACION DEJANDO LOS DEMAS PARAMETROS CONGELADOS PARA ENTRENAR EL MODELO CON LA NUEVA INFORMACION, Y CON AYUDA DE ALGUNAS VARIABLES EXOGENAS PREDECIR LOS MENSAJES FALSOS Y VERDADEROS. \n",
    "\n",
    "El modelo utilizado en el articulo tiene en cuenta otros factores mas elaborados como las dinamicas de poder, las cuales influyen en la capacidad de mentir, ya que un jugador mas fuerte puede sentirse con la facultad de mentirle a otra persona. </br>\n",
    "Por otro lado, se implementa una red neuronal (LSTM), para investigar las secuencias de las palabras que no se toman en cuenta en la regresion logistica con el fin de revelar mentiras. El LSTM jerarquico recibe el contexto de los mensajes anteriores al determinar si un mensaje dado es una mentira, lo cual es similar a la tarea de etiquetado que realizan los humanos al anotar los datos. El modelo hace esto codificando un solo mensaje a partir de los tokens y luego ejecutando un LSTM hacia adelante sobre todos los mensajes. Para cada mensaje, examina tanto el contenido como el contexto previo para decidir si el mensaje actual es una mentira. \n",
    "\n",
    "FINALMENTE, EL MODELO IMPLEMENTADO DE DISTILBERT NO EVIDENCIA UNA MEJORA NOTABLE EN EL F-1 SCORE, DEBIDO AL TAMAÑO DEL DATASET PARA LOS DATOS DE ENTRENAMIENTO.\n",
    "QUEDA MAS CONFIGURACIONES POR IMPLEMENTARSE Y AÑADIR CAPAS OCULTAS EN LA ULTIMA CAPA DEL MODELO DE HUGGING FACE PARA MEJORAR LAS METRICAS DE EVALUACION. \n",
    "\n",
    "\n"
   ]
  }
 ],
 "metadata": {
  "kernelspec": {
   "display_name": "tf",
   "language": "python",
   "name": "python3"
  },
  "language_info": {
   "codemirror_mode": {
    "name": "ipython",
    "version": 3
   },
   "file_extension": ".py",
   "mimetype": "text/x-python",
   "name": "python",
   "nbconvert_exporter": "python",
   "pygments_lexer": "ipython3",
   "version": "3.9.13"
  }
 },
 "nbformat": 4,
 "nbformat_minor": 2
}
